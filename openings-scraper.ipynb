{
 "cells": [
  {
   "cell_type": "code",
   "execution_count": 1,
   "id": "44202639-f42a-43bb-9dbd-e45a2e79db97",
   "metadata": {},
   "outputs": [],
   "source": [
    "import requests\n",
    "from bs4 import BeautifulSoup\n",
    "import random\n",
    "import pandas as pd"
   ]
  },
  {
   "cell_type": "code",
   "execution_count": 2,
   "id": "1adc4880-8b2c-400e-a0c2-c9951fc3afaf",
   "metadata": {},
   "outputs": [],
   "source": [
    "title = \"Full Stack Developer\"\n",
    "location = \"United States\""
   ]
  },
  {
   "cell_type": "code",
   "execution_count": 3,
   "id": "bb31edeb-71f9-4218-838e-9cf42e860f2e",
   "metadata": {},
   "outputs": [],
   "source": [
    "list_url = \"https://www.linkedin.com/jobs-guest/jobs/api/seeMoreJobPostings/search?keywords=Full%2BStack%2BDeveloper&location=United%2BStates&start=25\"\n",
    "\n",
    "response = requests.get(list_url)\n",
    "\n",
    "list_data = response.text\n",
    "list_soup = BeautifulSoup(list_data, \"html.parser\")\n",
    "page_jobs = list_soup.find_all(\"li\")\n"
   ]
  },
  {
   "cell_type": "code",
   "execution_count": 4,
   "id": "12ff4510-f1e9-4150-a50c-e3296432038c",
   "metadata": {},
   "outputs": [
    {
     "name": "stdout",
     "output_type": "stream",
     "text": [
      "3849031941\n",
      "3733018383\n",
      "3853287842\n",
      "3879572892\n",
      "3829342080\n",
      "3872427315\n",
      "3881278399\n",
      "3641281176\n",
      "3648718895\n",
      "3884307168\n"
     ]
    }
   ],
   "source": [
    "id_list = []\n",
    "\n",
    "for job in page_jobs:\n",
    "    base_card_div = job.find(\"div\", {\"class\": \"base-card\"})\n",
    "    job_id = base_card_div.get(\"data-entity-urn\").split(\":\")[3]\n",
    "    print(job_id)\n",
    "    id_list.append(job_id)"
   ]
  },
  {
   "cell_type": "code",
   "execution_count": 8,
   "id": "066667a5-cd1d-42f0-b58e-7fddf572172e",
   "metadata": {},
   "outputs": [
    {
     "name": "stdout",
     "output_type": "stream",
     "text": [
      "200\n",
      "200\n",
      "200\n",
      "200\n",
      "200\n",
      "200\n",
      "200\n",
      "200\n",
      "200\n",
      "200\n"
     ]
    }
   ],
   "source": [
    "import time\n",
    "import requests\n",
    "from bs4 import BeautifulSoup\n",
    "\n",
    "job_list = []\n",
    "\n",
    "for job_id in id_list:\n",
    "    job_url = f\"https://www.linkedin.com/jobs-guest/jobs/api/jobPosting/{job_id}\"\n",
    "    job_response = requests.get(job_url)\n",
    "    \n",
    "    if job_response.status_code == 429:\n",
    "        # If the status code is 429 (rate limit exceeded), wait for the specified time\n",
    "        retry_after = int(job_response.headers.get(\"Retry-After\", 10))  # Default to 10 seconds if header not present\n",
    "        print(f\"Rate limit exceeded. Waiting for {retry_after} seconds before retrying...\")\n",
    "        time.sleep(retry_after)\n",
    "        \n",
    "        # Make the request again\n",
    "        job_response = requests.get(job_url)\n",
    "\n",
    "    print(job_response.status_code)\n",
    "    job_soup = BeautifulSoup(job_response.text, \"html.parser\")\n",
    "    job_post = {}\n",
    "    try:\n",
    "        job_post[\"company_name\"] = job_soup.find(\"a\", {\"class\": \"topcard__org-name-link topcard__flavor--black-link\"}).text.strip()\n",
    "    except:\n",
    "        job_post[\"company_name\"] = None\n",
    "    try:\n",
    "        job_post[\"time_posted\"] = job_soup.find(\"span\", {\"class\": \"posted-time-ago__text topcard__flavor--metadata\"}).text.strip()\n",
    "    except:\n",
    "        job_post[\"time_posted\"] = None\n",
    "    try:\n",
    "        job_post[\"num_applicants\"] = job_soup.find(\"figure\", {\"class\": \"num-applicants__figure topcard__flavor--metadata topcard__flavor--bullet\"}).text.strip()\n",
    "    except:\n",
    "        job_post[\"num_applicants\"] = None\n",
    "    \n",
    "    job_list.append(job_post)\n"
   ]
  },
  {
   "cell_type": "code",
   "execution_count": null,
   "id": "7cb5014a-c583-49b5-b417-0b0137152d49",
   "metadata": {},
   "outputs": [],
   "source": [
    "job_list"
   ]
  },
  {
   "cell_type": "code",
   "execution_count": null,
   "id": "954bafcc-ad2b-49ca-b5e3-b72dd9fde503",
   "metadata": {},
   "outputs": [],
   "source": [
    "job_response"
   ]
  },
  {
   "cell_type": "code",
   "execution_count": null,
   "id": "6f528e90-6b66-4ce5-a776-7452e73aeb19",
   "metadata": {},
   "outputs": [],
   "source": [
    "job_response.text"
   ]
  },
  {
   "cell_type": "code",
   "execution_count": null,
   "id": "45a1f672-8aa0-4294-bced-90ee9fda3c08",
   "metadata": {},
   "outputs": [],
   "source": []
  }
 ],
 "metadata": {
  "kernelspec": {
   "display_name": "Python 3 (ipykernel)",
   "language": "python",
   "name": "python3"
  },
  "language_info": {
   "codemirror_mode": {
    "name": "ipython",
    "version": 3
   },
   "file_extension": ".py",
   "mimetype": "text/x-python",
   "name": "python",
   "nbconvert_exporter": "python",
   "pygments_lexer": "ipython3",
   "version": "3.11.2"
  }
 },
 "nbformat": 4,
 "nbformat_minor": 5
}
