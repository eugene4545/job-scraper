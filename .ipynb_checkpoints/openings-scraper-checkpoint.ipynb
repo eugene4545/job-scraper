{
 "cells": [
  {
   "cell_type": "code",
   "execution_count": 70,
   "id": "a4512a21-de10-4113-8a99-3701d6e3742c",
   "metadata": {},
   "outputs": [],
   "source": [
    "import requests \n",
    "from bs4 import BeautifulSoup\n",
    "import random\n",
    "import pandas as pd"
   ]
  },
  {
   "cell_type": "code",
   "execution_count": 71,
   "id": "e4070b72-3c66-4397-8fc4-e40363afa69c",
   "metadata": {},
   "outputs": [],
   "source": [
    "title = \"Frontend Developer\"\n",
    "location = \"United States\""
   ]
  },
  {
   "cell_type": "code",
   "execution_count": 72,
   "id": "4be0511b-6efe-4a96-9a5c-a4e3fd48c886",
   "metadata": {},
   "outputs": [],
   "source": [
    "list_url = \"https://www.linkedin.com/jobs-guest/jobs/api/seeMoreJobPostings/search?keywords=Frontend%2BDeveloper&location=United%2BStates&start=50\"\n",
    "\n",
    "response = requests.get(list_url)\n",
    "\n",
    "list_data = response.text\n",
    "list_soup = BeautifulSoup(list_data, \"html.parser\")\n",
    "page_jobs = list_soup.find_all(\"li\")"
   ]
  },
  {
   "cell_type": "code",
   "execution_count": 73,
   "id": "ab92b243-6236-494b-8ae0-d777a1d94d03",
   "metadata": {},
   "outputs": [],
   "source": [
    "id_list = []"
   ]
  },
  {
   "cell_type": "code",
   "execution_count": 74,
   "id": "66e5a2c9-7e10-477a-a557-48645a93cfda",
   "metadata": {},
   "outputs": [
    {
     "name": "stdout",
     "output_type": "stream",
     "text": [
      "3878979790\n",
      "3904216656\n",
      "3888428463\n",
      "3910734136\n",
      "3787334783\n",
      "3888464767\n",
      "3888464464\n",
      "3880253799\n",
      "3905155235\n",
      "3837056406\n"
     ]
    }
   ],
   "source": [
    "\n",
    "for job in page_jobs:\n",
    "    base_card_div = job.find(\"div\", {\"class\": \"base-card\"})\n",
    "    job_id = base_card_div.get(\"data-entity-urn\").split(\":\")[3]\n",
    "    print(job_id)\n",
    "    id_list.append(job_id)"
   ]
  },
  {
   "cell_type": "code",
   "execution_count": 76,
   "id": "21030cdc-acb8-473d-b480-4f4554ab3f25",
   "metadata": {},
   "outputs": [
    {
     "data": {
      "text/plain": [
       "['3878979790',\n",
       " '3904216656',\n",
       " '3888428463',\n",
       " '3910734136',\n",
       " '3787334783',\n",
       " '3888464767',\n",
       " '3888464464',\n",
       " '3880253799',\n",
       " '3905155235',\n",
       " '3837056406']"
      ]
     },
     "execution_count": 76,
     "metadata": {},
     "output_type": "execute_result"
    }
   ],
   "source": [
    "id_list"
   ]
  },
  {
   "cell_type": "code",
   "execution_count": 77,
   "id": "7f68b3b9-820b-4c4d-b1bd-400ee27ce62b",
   "metadata": {},
   "outputs": [
    {
     "name": "stdout",
     "output_type": "stream",
     "text": [
      "200\n",
      "200\n",
      "Rate limit exceeded. Waiting for 10 seconds before retrying...\n",
      "429\n",
      "Rate limit exceeded. Waiting for 10 seconds before retrying...\n",
      "200\n",
      "Rate limit exceeded. Waiting for 10 seconds before retrying...\n",
      "429\n",
      "200\n",
      "200\n",
      "200\n",
      "200\n",
      "200\n"
     ]
    }
   ],
   "source": [
    "import time\n",
    "import requests\n",
    "from bs4 import BeautifulSoup\n",
    "\n",
    "job_list = []\n",
    "\n",
    "for job_id in id_list:\n",
    "    job_url = f\"https://www.linkedin.com/jobs-guest/jobs/api/jobPosting/{job_id}\"\n",
    "    job_response = requests.get(job_url)\n",
    "\n",
    "    if job_response.status_code == 429:\n",
    "        # If the status code is 429 (rate limit exceeded), wait for the specified time\n",
    "        retry_after = int(job_response.headers.get(\"Retry-After\", 10))  # Default to 10 seconds if header not present\n",
    "        print(f\"Rate limit exceeded. Waiting for {retry_after} seconds before retrying...\")\n",
    "        time.sleep(retry_after)\n",
    "        \n",
    "        # Make the request again\n",
    "        job_response = requests.get(job_url)\n",
    "\n",
    "    print(job_response.status_code)\n",
    "    job_soup = BeautifulSoup(job_response.text, \"html.parser\")\n",
    "    job_post = {}\n",
    "    try:\n",
    "        job_post[\"job_title\"] = job_soup.find(\"h2\", {\"class\": \"top-card-layout__title font-sans text-lg papabear:text-xl font-bold leading-open text-color-text mb-0 topcard__title\"}).text.strip()\n",
    "    except:\n",
    "        job_post[\"job_title\"] = None\n",
    "    try:\n",
    "        job_post[\"company_name\"] = job_soup.find(\"a\", {\"class\": \"topcard__org-name-link topcard__flavor--black-link\"}).text.strip()\n",
    "    except:\n",
    "        job_post[\"company_name\"] = None\n",
    "    try:\n",
    "        job_post[\"time_posted\"] = job_soup.find(\"span\", {\"class\": \"posted-time-ago__text topcard__flavor--metadata\"}).text.strip()\n",
    "    except:\n",
    "        job_post[\"time_posted\"] = None\n",
    "    try:\n",
    "        job_post[\"num_applicants\"] = job_soup.find(\"span\", {\"class\": \"num-applicants__caption topcard__flavor--metadata topcard__flavor--bullet\"}).text.strip()\n",
    "    except:\n",
    "        job_post[\"num_applicants\"] = None\n",
    "    \n",
    "    job_list.append(job_post)"
   ]
  },
  {
   "cell_type": "code",
   "execution_count": 78,
   "id": "38651b8b-449e-4a6e-b60f-cc71077e02e8",
   "metadata": {},
   "outputs": [
    {
     "data": {
      "text/plain": [
       "[{'job_title': 'Front End Web Developer',\n",
       "  'company_name': 'Tailored Brands, Inc.',\n",
       "  'time_posted': '3 weeks ago',\n",
       "  'num_applicants': None},\n",
       " {'job_title': 'Front End Developer - Remote',\n",
       "  'company_name': 'Get It Recruit - Information Technology',\n",
       "  'time_posted': '2 days ago',\n",
       "  'num_applicants': '73 applicants'},\n",
       " {'job_title': None,\n",
       "  'company_name': None,\n",
       "  'time_posted': None,\n",
       "  'num_applicants': None},\n",
       " {'job_title': 'React Developer',\n",
       "  'company_name': 'Mobomo',\n",
       "  'time_posted': None,\n",
       "  'num_applicants': None},\n",
       " {'job_title': None,\n",
       "  'company_name': None,\n",
       "  'time_posted': None,\n",
       "  'num_applicants': None},\n",
       " {'job_title': 'Frontend Developer',\n",
       "  'company_name': 'Digital Janet',\n",
       "  'time_posted': '2 weeks ago',\n",
       "  'num_applicants': '152 applicants'},\n",
       " {'job_title': 'Front-End Developer',\n",
       "  'company_name': 'Zortech Solutions',\n",
       "  'time_posted': '2 weeks ago',\n",
       "  'num_applicants': '55 applicants'},\n",
       " {'job_title': 'Junior Frontend Developer',\n",
       "  'company_name': 'Idea Entity',\n",
       "  'time_posted': '3 weeks ago',\n",
       "  'num_applicants': None},\n",
       " {'job_title': 'Frontend Developer',\n",
       "  'company_name': 'Bestever AI',\n",
       "  'time_posted': '1 day ago',\n",
       "  'num_applicants': None},\n",
       " {'job_title': 'Front End Software Engineer',\n",
       "  'company_name': 'Dynamo AI',\n",
       "  'time_posted': '2 months ago',\n",
       "  'num_applicants': '91 applicants'}]"
      ]
     },
     "execution_count": 78,
     "metadata": {},
     "output_type": "execute_result"
    }
   ],
   "source": [
    "job_list"
   ]
  },
  {
   "cell_type": "code",
   "execution_count": 79,
   "id": "6bfd5ff3-373d-452d-b7a7-f15887722897",
   "metadata": {},
   "outputs": [
    {
     "data": {
      "text/html": [
       "<div>\n",
       "<style scoped>\n",
       "    .dataframe tbody tr th:only-of-type {\n",
       "        vertical-align: middle;\n",
       "    }\n",
       "\n",
       "    .dataframe tbody tr th {\n",
       "        vertical-align: top;\n",
       "    }\n",
       "\n",
       "    .dataframe thead th {\n",
       "        text-align: right;\n",
       "    }\n",
       "</style>\n",
       "<table border=\"1\" class=\"dataframe\">\n",
       "  <thead>\n",
       "    <tr style=\"text-align: right;\">\n",
       "      <th></th>\n",
       "      <th>job_title</th>\n",
       "      <th>company_name</th>\n",
       "      <th>time_posted</th>\n",
       "      <th>num_applicants</th>\n",
       "    </tr>\n",
       "  </thead>\n",
       "  <tbody>\n",
       "    <tr>\n",
       "      <th>0</th>\n",
       "      <td>Front End Web Developer</td>\n",
       "      <td>Tailored Brands, Inc.</td>\n",
       "      <td>3 weeks ago</td>\n",
       "      <td>None</td>\n",
       "    </tr>\n",
       "    <tr>\n",
       "      <th>1</th>\n",
       "      <td>Front End Developer - Remote</td>\n",
       "      <td>Get It Recruit - Information Technology</td>\n",
       "      <td>2 days ago</td>\n",
       "      <td>73 applicants</td>\n",
       "    </tr>\n",
       "    <tr>\n",
       "      <th>2</th>\n",
       "      <td>None</td>\n",
       "      <td>None</td>\n",
       "      <td>None</td>\n",
       "      <td>None</td>\n",
       "    </tr>\n",
       "    <tr>\n",
       "      <th>3</th>\n",
       "      <td>React Developer</td>\n",
       "      <td>Mobomo</td>\n",
       "      <td>None</td>\n",
       "      <td>None</td>\n",
       "    </tr>\n",
       "    <tr>\n",
       "      <th>4</th>\n",
       "      <td>None</td>\n",
       "      <td>None</td>\n",
       "      <td>None</td>\n",
       "      <td>None</td>\n",
       "    </tr>\n",
       "    <tr>\n",
       "      <th>5</th>\n",
       "      <td>Frontend Developer</td>\n",
       "      <td>Digital Janet</td>\n",
       "      <td>2 weeks ago</td>\n",
       "      <td>152 applicants</td>\n",
       "    </tr>\n",
       "    <tr>\n",
       "      <th>6</th>\n",
       "      <td>Front-End Developer</td>\n",
       "      <td>Zortech Solutions</td>\n",
       "      <td>2 weeks ago</td>\n",
       "      <td>55 applicants</td>\n",
       "    </tr>\n",
       "    <tr>\n",
       "      <th>7</th>\n",
       "      <td>Junior Frontend Developer</td>\n",
       "      <td>Idea Entity</td>\n",
       "      <td>3 weeks ago</td>\n",
       "      <td>None</td>\n",
       "    </tr>\n",
       "    <tr>\n",
       "      <th>8</th>\n",
       "      <td>Frontend Developer</td>\n",
       "      <td>Bestever AI</td>\n",
       "      <td>1 day ago</td>\n",
       "      <td>None</td>\n",
       "    </tr>\n",
       "    <tr>\n",
       "      <th>9</th>\n",
       "      <td>Front End Software Engineer</td>\n",
       "      <td>Dynamo AI</td>\n",
       "      <td>2 months ago</td>\n",
       "      <td>91 applicants</td>\n",
       "    </tr>\n",
       "  </tbody>\n",
       "</table>\n",
       "</div>"
      ],
      "text/plain": [
       "                      job_title                             company_name  \\\n",
       "0       Front End Web Developer                    Tailored Brands, Inc.   \n",
       "1  Front End Developer - Remote  Get It Recruit - Information Technology   \n",
       "2                          None                                     None   \n",
       "3               React Developer                                   Mobomo   \n",
       "4                          None                                     None   \n",
       "5            Frontend Developer                            Digital Janet   \n",
       "6           Front-End Developer                        Zortech Solutions   \n",
       "7     Junior Frontend Developer                              Idea Entity   \n",
       "8            Frontend Developer                              Bestever AI   \n",
       "9   Front End Software Engineer                                Dynamo AI   \n",
       "\n",
       "    time_posted  num_applicants  \n",
       "0   3 weeks ago            None  \n",
       "1    2 days ago   73 applicants  \n",
       "2          None            None  \n",
       "3          None            None  \n",
       "4          None            None  \n",
       "5   2 weeks ago  152 applicants  \n",
       "6   2 weeks ago   55 applicants  \n",
       "7   3 weeks ago            None  \n",
       "8     1 day ago            None  \n",
       "9  2 months ago   91 applicants  "
      ]
     },
     "execution_count": 79,
     "metadata": {},
     "output_type": "execute_result"
    }
   ],
   "source": [
    "jobs_df = pd.DataFrame(job_list)\n",
    "jobs_df"
   ]
  },
  {
   "cell_type": "code",
   "execution_count": null,
   "id": "8c212f24-d30b-47cd-b40e-84891f0975f9",
   "metadata": {},
   "outputs": [],
   "source": [
    "job_response"
   ]
  },
  {
   "cell_type": "code",
   "execution_count": null,
   "id": "2e055841-d6d3-4b29-815a-21ea4353fd35",
   "metadata": {},
   "outputs": [],
   "source": [
    "job_response.text"
   ]
  },
  {
   "cell_type": "code",
   "execution_count": null,
   "id": "df040c65-9933-402a-96af-d12e1f5059c9",
   "metadata": {},
   "outputs": [],
   "source": []
  }
 ],
 "metadata": {
  "kernelspec": {
   "display_name": "Python 3 (ipykernel)",
   "language": "python",
   "name": "python3"
  },
  "language_info": {
   "codemirror_mode": {
    "name": "ipython",
    "version": 3
   },
   "file_extension": ".py",
   "mimetype": "text/x-python",
   "name": "python",
   "nbconvert_exporter": "python",
   "pygments_lexer": "ipython3",
   "version": "undefined.undefined.undefined"
  }
 },
 "nbformat": 4,
 "nbformat_minor": 5
}
