{
 "cells": [
  {
   "cell_type": "code",
   "execution_count": 7,
   "id": "44202639-f42a-43bb-9dbd-e45a2e79db97",
   "metadata": {},
   "outputs": [],
   "source": [
    "import requests\n",
    "from bs4 import BeautifulSoup\n",
    "import random\n",
    "import pandas as pd"
   ]
  },
  {
   "cell_type": "code",
   "execution_count": 8,
   "id": "1adc4880-8b2c-400e-a0c2-c9951fc3afaf",
   "metadata": {},
   "outputs": [],
   "source": [
    "title = \"Full Stack Developer\"\n",
    "location = \"United States\""
   ]
  },
  {
   "cell_type": "code",
   "execution_count": 21,
   "id": "bb31edeb-71f9-4218-838e-9cf42e860f2e",
   "metadata": {},
   "outputs": [],
   "source": [
    "list_url = \"https://www.linkedin.com/jobs-guest/jobs/api/seeMoreJobPostings/search?keywords=Full%2BStack%2BDeveloper&location=United%2BStates&start=25\"\n",
    "\n",
    "response = requests.get(list_url)\n",
    "\n",
    "list_data = response.text\n",
    "list_soup = BeautifulSoup(list_data, \"html.parser\")\n",
    "page_jobs = list_soup.find_all(\"li\")\n"
   ]
  },
  {
   "cell_type": "code",
   "execution_count": 25,
   "id": "12ff4510-f1e9-4150-a50c-e3296432038c",
   "metadata": {},
   "outputs": [
    {
     "name": "stdout",
     "output_type": "stream",
     "text": [
      "3733018383\n",
      "3853287842\n",
      "3883923990\n",
      "3648718895\n",
      "3879572892\n",
      "3829342080\n",
      "3872427315\n",
      "3883748444\n",
      "3641281176\n",
      "3881278399\n"
     ]
    }
   ],
   "source": [
    "id_list = []\n",
    "\n",
    "for job in page_jobs:\n",
    "    base_card_div = job.find(\"div\", {\"class\": \"base-card\"})\n",
    "    job_id = base_card_div.get(\"data-entity-urn\").split(\":\")[3]\n",
    "    print(job_id)\n",
    "    id_list.append(job_id)"
   ]
  },
  {
   "cell_type": "code",
   "execution_count": 53,
   "id": "066667a5-cd1d-42f0-b58e-7fddf572172e",
   "metadata": {},
   "outputs": [
    {
     "name": "stdout",
     "output_type": "stream",
     "text": [
      "200\n",
      "200\n",
      "200\n",
      "200\n",
      "200\n",
      "200\n",
      "200\n",
      "Rate limit exceeded. Waiting for 10 seconds before retrying...\n",
      "200\n",
      "200\n",
      "200\n"
     ]
    }
   ],
   "source": [
    "import time\n",
    "import requests\n",
    "from bs4 import BeautifulSoup\n",
    "\n",
    "job_list = []\n",
    "\n",
    "for job_id in id_list:\n",
    "    job_url = f\"https://www.linkedin.com/jobs-guest/jobs/api/jobPosting/{job_id}\"\n",
    "    job_response = requests.get(job_url)\n",
    "    \n",
    "    if job_response.status_code == 429:\n",
    "        # If the status code is 429 (rate limit exceeded), wait for the specified time\n",
    "        retry_after = int(job_response.headers.get(\"Retry-After\", 10))  # Default to 10 seconds if header not present\n",
    "        print(f\"Rate limit exceeded. Waiting for {retry_after} seconds before retrying...\")\n",
    "        time.sleep(retry_after)\n",
    "        \n",
    "        # Make the request again\n",
    "        job_response = requests.get(job_url)\n",
    "\n",
    "    print(job_response.status_code)\n",
    "    job_soup = BeautifulSoup(job_response.text, \"html.parser\")\n",
    "    job_post = {}\n",
    "    try:\n",
    "    job_post[\"company_name\"] = job_soup.find(\"a\", {\"class\": \"topcard__org-name-link topcard__flavor--black-link\"}).text.strip()\n",
    "    except:\n",
    "        job_post[\"company_name\"] = None\n",
    "    try:\n",
    "    job_post[\"time_posted\"] = job_soup.find(\"span\", {\"class\": \"posted-time-ago__text topcard__flavor--metadata\"}).text.strip()\n",
    "    except:\n",
    "        job_post[\"time_posted\"] = None\n",
    "    try:\n",
    "    job_post[\"num_applicants\"] = job_soup.find(\"figure\", {\"class\": \"num-applicants__figure topcard__flavor--metadata topcard__flavor--bullet\"}).text.strip()\n",
    "    except:\n",
    "        job_post[\"num_applicants\"] = None\n",
    "    \n",
    "    job_list.append(job_post)\n"
   ]
  },
  {
   "cell_type": "code",
   "execution_count": 48,
   "id": "7cb5014a-c583-49b5-b417-0b0137152d49",
   "metadata": {},
   "outputs": [
    {
     "data": {
      "text/plain": [
       "[{'company_name': 'Vorto',\n",
       "  'time': '5 months ago',\n",
       "  'num_applicants': 'Over 200 applicants'},\n",
       " {'company_name': 'Accroid Inc',\n",
       "  'time': '3 weeks ago',\n",
       "  'num_applicants': 'Over 200 applicants'}]"
      ]
     },
     "execution_count": 48,
     "metadata": {},
     "output_type": "execute_result"
    }
   ],
   "source": [
    "job_list"
   ]
  },
  {
   "cell_type": "code",
   "execution_count": 49,
   "id": "954bafcc-ad2b-49ca-b5e3-b72dd9fde503",
   "metadata": {},
   "outputs": [
    {
     "data": {
      "text/plain": [
       "<Response [200]>"
      ]
     },
     "execution_count": 49,
     "metadata": {},
     "output_type": "execute_result"
    }
   ],
   "source": [
    "job_response"
   ]
  },
  {
   "cell_type": "code",
   "execution_count": 14,
   "id": "6f528e90-6b66-4ce5-a776-7452e73aeb19",
   "metadata": {},
   "outputs": [
    {
     "data": {
      "text/plain": [
       "'\\n\\n    \\n<!---->    \\n    \\n\\n    \\n    <section class=\"top-card-layout container-lined overflow-hidden babybear:rounded-[0px]\">\\n        \\n      \\n\\n      <div class=\"top-card-layout__card relative p-2 papabear:p-details-container-padding\">\\n            \\n        \\n      <a href=\"https://www.linkedin.com/company/burq?trk=public_jobs_topcard_logo\" target=\"_self\" data-tracking-control-name=\"public_jobs_topcard_logo\" data-tracking-will-navigate>\\n        \\n          \\n      <img class=\"artdeco-entity-image artdeco-entity-image--square-5\\n          \" data-delayed-url=\"https://media.licdn.com/dms/image/C4E0BAQHePa5HORRQ-A/company-logo_100_100/0/1646325096015/burq_logo?e=2147483647&amp;v=beta&amp;t=yu3HHd9oUmKlgZNEkwE1rK9D1iRZJAi98Uu1B3wX_kM\" data-ghost-classes=\"artdeco-entity-image--ghost\" data-ghost-url=\"https://static.licdn.com/aero-v1/sc/h/9rxpcj33wtsq3w7nxb3u3ku6e\" alt=\"Burq\">\\n  \\n        \\n      </a>\\n  \\n      \\n\\n          <div class=\"top-card-layout__entity-info-container flex flex-wrap papabear:flex-nowrap\">\\n            <div class=\"top-card-layout__entity-info flex-grow flex-shrink-0 basis-0 babybear:flex-none babybear:w-full babybear:flex-none babybear:w-full\">\\n                  \\n          <a href=\"https://www.linkedin.com/jobs/view/full-stack-software-engineer-at-burq-3686203652?trk=public_jobs_topcard-title\" data-tracking-control-name=\"public_jobs_topcard-title\" class=\"topcard__link\" data-tracking-will-navigate>\\n            <h2 class=\"top-card-layout__title font-sans text-lg papabear:text-xl font-bold leading-open text-color-text mb-0 topcard__title\">Full-Stack Software Engineer</h2>\\n          </a>\\n      \\n<!---->\\n<!---->\\n                <h4 class=\"top-card-layout__second-subline font-sans text-sm leading-open text-color-text-low-emphasis mt-0.5\">\\n                  \\n        <div class=\"topcard__flavor-row\">\\n          <span class=\"topcard__flavor\">\\n              <a class=\"topcard__org-name-link topcard__flavor--black-link\" data-tracking-control-name=\"public_jobs_topcard-org-name\" data-tracking-will-navigate href=\"https://www.linkedin.com/company/burq?trk=public_jobs_topcard-org-name\" rel=\"noopener\" target=\"_blank\">\\n                Burq\\n              </a>\\n          </span>\\n            <span class=\"topcard__flavor topcard__flavor--bullet\">\\n              San Francisco, CA\\n            </span>\\n        </div>\\n        <div class=\"topcard__flavor-row\">\\n          \\n        <span class=\"posted-time-ago__text topcard__flavor--metadata\">\\n          \\n\\n    \\n    \\n    \\n    \\n    \\n    \\n    \\n    \\n    \\n    \\n    \\n    \\n    \\n    \\n    \\n    \\n\\n    \\n    \\n    \\n    \\n    \\n    \\n    \\n    \\n    \\n    \\n    \\n    \\n    \\n    \\n\\n      8 months ago\\n  \\n        </span>\\n  \\n          \\n    \\n    \\n    \\n\\n        <figure class=\"num-applicants__figure topcard__flavor--metadata topcard__flavor--bullet\">\\n          <span class=\"num-applicants__icon num-applicants__icon--notify-pebble lazy-load\"></span>\\n          <figcaption class=\"num-applicants__caption\">\\n            Over 200 applicants\\n          </figcaption>\\n        </figure>\\n  \\n        </div>\\n          \\n    \\n    \\n\\n    \\n      \\n    <div class=\"face-pile flex see-who-was-hired\">\\n      <div class=\"face-pile__images-container self-start flex-shrink-0 mr-1 leading-[1]\">\\n          \\n      <img class=\"inline-block relative\\n          rounded-[50%]\\n          w-4 h-4\\n           face-pile__image border-1 border-solid border-color-transparent -ml-2 first:ml-0\" data-delayed-url=\"https://static.licdn.com/aero-v1/sc/h/c090wioxqh0gduwjdkzvfj7j7\" data-ghost-classes=\"bg-color-entity-ghost-background\" data-ghost-url=\"https://static.licdn.com/aero-v1/sc/h/9c8pery4andzj6ohjkjp54ma2\" alt>\\n  \\n          \\n      <img class=\"inline-block relative\\n          rounded-[50%]\\n          w-4 h-4\\n           face-pile__image border-1 border-solid border-color-transparent -ml-2 first:ml-0\" data-delayed-url=\"https://static.licdn.com/aero-v1/sc/h/cb4flmlee1eo4dfd0sjdwrmt3\" data-ghost-classes=\"bg-color-entity-ghost-background\" data-ghost-url=\"https://static.licdn.com/aero-v1/sc/h/9c8pery4andzj6ohjkjp54ma2\" alt>\\n  \\n          \\n      <img class=\"inline-block relative\\n          rounded-[50%]\\n          w-4 h-4\\n           face-pile__image border-1 border-solid border-color-transparent -ml-2 first:ml-0\" data-delayed-url=\"https://static.licdn.com/aero-v1/sc/h/1pwz4u0l26mmgognrjkextjg8\" data-ghost-classes=\"bg-color-entity-ghost-background\" data-ghost-url=\"https://static.licdn.com/aero-v1/sc/h/9c8pery4andzj6ohjkjp54ma2\" alt>\\n  \\n      </div>\\n          <a class=\"face-pile__cta self-center link-no-visited-state\" href=\"https://www.linkedin.com/login?session_redirect=https%3A%2F%2Fwww%2Elinkedin%2Ecom%2Fsearch%2Fresults%2Fpeople%2F%3FfacetCurrentCompany%3D70245625&amp;emailAddress=&amp;fromSignIn=&amp;trk=public_jobs_see-who-was-hired_people-search-link_face-pile-cta\" data-tracking-control-name=\"public_jobs_see-who-was-hired_people-search-link_face-pile-cta\" data-tracking-will-navigate>\\n            See who Burq has hired for this role\\n          </a>\\n    </div>\\n  \\n  \\n  \\n<!---->      \\n                </h4>\\n\\n              <div class=\"top-card-layout__cta-container flex flex-wrap mt-0.5 papabear:mt-0 ml-[-12px]\">\\n                    \\n          \\n    \\n    \\n\\n      <button class=\"apply-button apply-button--default top-card-layout__cta mt-2 ml-1.5 h-auto babybear:flex-auto top-card-layout__cta--primary btn-md btn-primary\" data-reference-id=\"9aq+BnurSgmTCOvrPesJSw==\" data-tracking-id=\"iq+XrwX1TjW0LsteVVfnFg==\" data-tracking-control-name=\"public_jobs_apply-link-onsite\">\\n                Apply\\n      </button>\\n  \\n      \\n\\n                    \\n          <button class=\"top-card-layout__cta mt-2 ml-1.5 h-auto babybear:flex-auto top-card-layout__cta--secondary btn-md btn-secondary save-job-modal-outlet\" data-modal=\"save-job-modal-outlet\" data-impression-id=\"public_jobs_topcard-save-job\" data-tracking-control-name=\"public_jobs_topcard-save-job\">\\n            Save\\n          </button>\\n          \\n    \\n\\n    \\n\\n    \\n    <div class>\\n<!---->\\n      <div id=\"save-job-modal\" class=\"modal save-job-modal \" data-outlet=\"save-job-modal-outlet\">\\n<!---->        <div class=\"modal__overlay flex items-center bg-color-background-scrim justify-center fixed bottom-0 left-0 right-0 top-0 opacity-0 invisible pointer-events-none z-[1000] transition-[opacity] ease-[cubic-bezier(0.25,0.1,0.25,1.0)] duration-[0.17s]\\n            py-4\\n            \" aria-hidden=\"true\">\\n          <section aria-modal=\"true\" role=\"dialog\" aria-labelledby=\"save-job-modal-modal-header\" tabindex=\"-1\" class=\"max-h-full modal__wrapper overflow-auto p-0 bg-color-surface max-w-[1128px] min-h-[160px] relative scale-[0.25] shadow-sm shadow-color-border-faint transition-[transform] ease-[cubic-bezier(0.25,0.1,0.25,1.0)] duration-[0.33s] focus:outline-0\\n              \\n              w-[1128px] mamabear:w-[744px] babybear:w-[360px]\\n              \\n              rounded-md\">\\n              <header class=\"modal__header flex items-center justify-between py-1.5 px-3\\n                  \">\\n                  <h2 id=\"save-job-modal-modal-header\" class=\"modal__title font-normal leading-open text-color-text text-lg\">Save job</h2>\\n                  <button class=\"modal__dismiss modal__dismiss--with-icon btn-tertiary h-[40px] w-[40px] p-0 rounded-full indent-0\\n                      \" aria-label=\"Dismiss\" data-tracking-control-name=\"public_jobs_save-job-modal_modal_dismiss\" type=\"button\">\\n                      <icon class=\"modal__dismiss-icon relative top-[2px]\" data-delayed-url=\"https://static.licdn.com/aero-v1/sc/h/gs508lg3t2o81tq7pmcgn6m2\"></icon>\\n                  </button>\\n<!---->              </header>\\n            <div class=\"modal__main w-full \">\\n              \\n        \\n    <div class=\"loader loader--absolute\">\\n      <div class=\"loader__container mb-2 overflow-hidden\">\\n        <icon class=\"loader__icon inline-block loader__icon--muted text-color-icon-active\" data-delayed-url=\"https://static.licdn.com/aero-v1/sc/h/ddi43qwelxeqjxdd45pe3fvs1\" data-svg-class-name=\"loader__icon-svg--small fill-currentColor h-[30px] min-h-[30px] w-[30px] min-w-[30px]\"></icon>\\n      </div>\\n    </div>\\n  \\n        \\n    \\n    \\n    \\n    \\n    \\n    \\n\\n    <code id=\"i18n_save_job_form_email_check_error\" style=\"display: none\"><!--\"We’re sorry, something went wrong on our end. Please try again.\"--></code>\\n\\n    \\n    \\n    \\n\\n    <div class=\"email-input-page save-job-form-page\">\\n      \\n      <form class=\"email-input-page__content-new-user\">\\n        <div class=\"email-input-page__content\">\\n          <h3 class=\"email-input-page__header\">\\n            \\n        <figure class=\"save-job-form__inbug\">\\n          <icon data-delayed-url=\"https://static.licdn.com/aero-v1/sc/h/ercwkzy8m5jnkaliyweviswct\" data-svg-class-name=\"save-job-form__inbug-icon\"></icon>\\n        </figure>\\n        Save this job with your existing LinkedIn profile, or create a new one.\\n      \\n          </h3>\\n          <span class=\"email-input-page__body\">\\n            \\n        Your job seeking activity is only visible to you.\\n      \\n          </span>\\n          \\n    <div class=\"mt-1.5\" data-js-module-id=\"guest-input\">\\n      <div class=\"flex flex-col\">\\n        <label class=\"input-label mb-1\" for=\"public_jobs_save-job_email-input\">\\n          Email\\n        </label>\\n        <div class=\"text-input flex\">\\n          <input class=\"text-color-text font-sans text-md outline-0 bg-color-transparent grow\" autocomplete=\"off\" id=\"public_jobs_save-job_email-input\" name=\"email-input-page__input\" placeholder=\"Email address\" required data-tracking-control-name=\"public_jobs_save-job_enter-email\" type=\"text\">\\n          \\n        </div>\\n      </div>\\n\\n      <p class=\"input-helper mt-1.5\" for=\"public_jobs_save-job_email-input\" role=\"alert\" data-js-module-id=\"guest-input__message\"></p>\\n    </div>\\n  \\n\\n          <code id=\"email-input-page-error-message\" style=\"display: none\"><!--\"Please enter a valid email address.\"--></code>\\n        </div>\\n        \\n        <footer class=\"save-job-form__footer\">\\n          <button class=\"save-job-form__button\" data-tracking-control-name=\"public_jobs_save-job-form-continue\" type=\"submit\">\\n            Continue\\n          </button>\\n        </footer>\\n      \\n      </form>\\n      \\n    \\n\\n    <div class=\"welcome-back-sign-in-form welcome-back-sign-in-form--hidden\" data-impression-id=\"save-job-sign-in-form\">\\n      <h3 class=\"welcome-back-sign-in-form__header\">\\n        Welcome back\\n      </h3>\\n\\n        <p class=\"welcome-back-sign-in-form__subline\">\\n          \\n          \\n        Sign in to save <b>Full-Stack Software Engineer</b> at <b>Burq</b>.\\n      \\n        \\n        </p>\\n\\n      \\n    \\n    \\n    \\n    \\n    \\n    \\n    \\n    \\n    \\n    \\n\\n    <code id=\"i18n_sign_in_form_show_text\" style=\"display: none\"><!--\"Show\"--></code>\\n    <code id=\"i18n_sign_in_form_show_label\" style=\"display: none\"><!--\"Show your LinkedIn password\"--></code>\\n    <code id=\"i18n_sign_in_form_hide_text\" style=\"display: none\"><!--\"Hide\"--></code>\\n    <code id=\"i18n_sign_in_form_hide_label\" style=\"display: none\"><!--\"Hide your LinkedIn password\"--></code>\\n\\n    \\n    <code id=\"i18n_username_error_empty\" style=\"display: none\"><!--\"Please enter an email address or phone number\"--></code>\\n    \\n    <code id=\"i18n_username_error_too_long\" style=\"display: none\"><!--\"Email or phone number must be between 3 to 128 characters\"--></code>\\n    <code id=\"i18n_username_error_too_short\" style=\"display: none\"><!--\"Email or phone number must be between 3 to 128 characters\"--></code>\\n\\n    \\n    <code id=\"i18n_password_error_empty\" style=\"display: none\"><!--\"Please enter a password\"--></code>\\n    \\n    <code id=\"i18n_password_error_too_short\" style=\"display: none\"><!--\"The password you provided must have at least 6 characters\"--></code>\\n    \\n    <code id=\"i18n_password_error_too_long\" style=\"display: none\"><!--\"The password you provided must have at most 400 characters\"--></code>\\n\\n    <form data-id=\"sign-in-form\" action=\"https://www.linkedin.com/uas/login-submit\" method=\"post\" novalidate class=\"save-job-form-sign-in-form\">\\n      <input name=\"loginCsrfParam\" value=\"1c342e60-f211-4ad7-8e5e-c018b10ad71b\" type=\"hidden\">\\n\\n      <div class=\"flex flex-col\">\\n        \\n    <div class=\"mt-1.5\" data-js-module-id=\"guest-input\">\\n      <div class=\"flex flex-col\">\\n        <label class=\"input-label mb-1\" for=\"session_key\">\\n          Email or phone\\n        </label>\\n        <div class=\"text-input flex\">\\n          <input class=\"text-color-text font-sans text-md outline-0 bg-color-transparent grow\" autocomplete=\"username\" id=\"session_key\" name=\"session_key\" required data-tracking-control-name=\"public_jobs_save-job_sign-in-session-key\" data-tracking-client-ingraph type=\"text\">\\n          \\n        </div>\\n      </div>\\n\\n      <p class=\"input-helper mt-1.5\" for=\"session_key\" role=\"alert\" data-js-module-id=\"guest-input__message\"></p>\\n    </div>\\n  \\n\\n        \\n    <div class=\"mt-1.5\" data-js-module-id=\"guest-input\">\\n      <div class=\"flex flex-col\">\\n        <label class=\"input-label mb-1\" for=\"session_password\">\\n          Password\\n        </label>\\n        <div class=\"text-input flex\">\\n          <input class=\"text-color-text font-sans text-md outline-0 bg-color-transparent grow\" autocomplete=\"current-password\" id=\"session_password\" name=\"session_password\" required data-tracking-control-name=\"public_jobs_save-job_sign-in-password\" data-tracking-client-ingraph type=\"password\">\\n          \\n            <button aria-live=\"assertive\" aria-relevant=\"text\" data-id=\"sign-in-form__password-visibility-toggle\" class=\"font-sans text-md font-bold text-color-action z-10 ml-[12px] hover:cursor-pointer\" aria-label=\"Show your LinkedIn password\" data-tracking-control-name=\"public_jobs_save-job_sign-in-password-visibility-toggle-btn\" type=\"button\">Show</button>\\n          \\n        </div>\\n      </div>\\n\\n      <p class=\"input-helper mt-1.5\" for=\"session_password\" role=\"alert\" data-js-module-id=\"guest-input__message\"></p>\\n    </div>\\n  \\n\\n        <input name=\"session_redirect\" value=\"https://www.linkedin.com/jobs/view/full-stack-software-engineer-at-burq-3686203652\" type=\"hidden\">\\n\\n<!---->      </div>\\n\\n      <div data-id=\"sign-in-form__footer\" class=\"flex justify-between\\n          items-center mt-[16px]\">\\n        <a data-id=\"sign-in-form__forgot-password\" class=\"font-sans text-md font-bold link leading-regular\\n            \" href=\"https://www.linkedin.com/uas/request-password-reset?trk=public_jobs_save-job_forgot_password\" data-tracking-control-name=\"public_jobs_save-job_forgot_password\" data-tracking-will-navigate>Forgot password?</a>\\n\\n<!---->\\n        <input name=\"trk\" value=\"public_jobs_save-job_sign-in-submit\" type=\"hidden\">\\n        <button class=\"btn-md btn-primary flex-shrink-0 cursor-pointer\\n            ml-[8px]\" data-id=\"sign-in-form__submit-btn\" data-tracking-control-name=\"public_jobs_save-job_sign-in-submit-btn\" data-tracking-client-ingraph data-tracking-litms type=\"submit\">\\n          Sign in\\n        </button>\\n      </div>\\n<!---->    </form>\\n<!----><!---->  \\n    </div>\\n  \\n    </div>\\n  \\n  \\n      \\n            </div>\\n\\n<!---->          </section>\\n        </div>\\n      </div>\\n    </div>\\n  \\n  \\n      \\n              </div>\\n            </div>\\n\\n<!---->          </div>\\n\\n          \\n\\n    \\n    \\n    \\n    \\n    \\n    \\n    \\n    \\n    \\n    \\n    \\n    \\n    \\n\\n      <div class=\"ellipsis-menu absolute right-0 top-0 top-card-layout__ellipsis-menu mr-1 papabear:mt-0.5 papabear:mr-2\">\\n        \\n\\n    \\n\\n    <div class=\"collapsible-dropdown flex items-center relative hyphens-auto\">\\n          \\n            <button class=\"ellipsis-menu__trigger\\n                collapsible-dropdown__button btn-md btn-tertiary cursor-pointer\\n                !py-[6px] !px-1 flex items-center rounded-[50%]\\n                \\n                \" aria-expanded=\"false\" aria-label=\"Open menu\" data-tracking-control-name=\"public_jobs_ellipsis-menu-trigger\">\\n              <icon class=\"ellipsis-menu__trigger-icon m-0 p-0 centered-icon\" data-delayed-url=\"https://static.licdn.com/aero-v1/sc/h/671xosfpvk4c0kqtyl87hashi\"></icon>\\n            </button>\\n          \\n\\n        <ul class=\"collapsible-dropdown__list hidden container-raised absolute w-auto overflow-y-auto flex-col items-stretch z-1 bottom-auto top-[100%]\" role=\"menu\" tabindex=\"-1\">\\n          \\n              \\n\\n                <li class=\"ellipsis-menu__item border-t-1 border-solid border-color-border-low-emphasis first-of-type:border-none flex\">\\n                  \\n\\n    \\n    \\n\\n    \\n\\n    \\n\\n    <a href=\"/uas/login?fromSignIn=true&amp;session_redirect=https%3A%2F%2Fwww.linkedin.com%2Fjobs%2Fview%2Ffull-stack-software-engineer-at-burq-3686203652&amp;trk=public_jobs_ellipsis-menu-semaphore-sign-in-redirect&amp;guestReportContentType=JOB&amp;_f=guest-reporting\" data-tracking-control-name=\"public_jobs_ellipsis-menu-semaphore-sign-in-redirect\" data-tracking-will-navigate data-item-type=\"semaphore\" data-semaphore-content-type=\"JOB\" data-semaphore-content-urn=\"urn:li:jobPosting:3686203652\" data-semaphore-tracking-prefix=\"public_jobs_ellipsis-menu-semaphore\" data-is-logged-in=\"false\" data-modal=\"semaphore__toggle\" class=\"semaphore__toggle visited:text-color-text-secondary ellipsis-menu__semaphore ellipsis-menu__item-button flex items-center w-full p-1 cursor-pointer font-sans text-sm font-bold link-styled focus:link-styled link:no-underline active:bg-color-background-container-tint focus:bg-color-background-container-tint hover:bg-color-background-container-tint outline-offset-[-2px]\">\\n<!---->        \\n                      <icon class=\"ellipsis-menu__item-icon text-color-text h-[24px] w-[24px] mr-1\" data-delayed-url=\"https://static.licdn.com/aero-v1/sc/h/iq0x9q37wj214o129ai1yjut\">\\n                      </icon>\\n                      Report this job\\n                    \\n    </a>\\n\\n<!---->  \\n                </li>\\n<!---->          \\n        </ul>\\n\\n<!---->    </div>\\n  \\n\\n      </div>\\n  \\n\\n<!---->      </div>\\n    </section>\\n  \\n  \\n\\n    <div class=\"decorated-job-posting__details\">\\n<!---->\\n      \\n    \\n    \\n    \\n    \\n    \\n\\n    \\n    <section class=\"core-section-container my-3 description\">\\n<!---->\\n<!---->\\n<!---->\\n      <div class=\"core-section-container__content break-words\">\\n        \\n      \\n    \\n    \\n\\n<!---->  \\n\\n      <div class=\"description__text description__text--rich\">\\n        \\n    \\n    \\n    \\n\\n    <section class=\"show-more-less-html\" data-max-lines=\"5\">\\n        <div class=\"show-more-less-html__markup show-more-less-html__markup--clamp-after-5\\n            relative overflow-hidden\">\\n          <strong>About Burq<br><br></strong>Burq started with an ambitious mission: how can we turn the complex process of offering delivery into a simple turnkey solution.<br><br>We started with building the largest network of delivery networks, partnering with some of the biggest delivery companies. We then made it extremely easy for businesses to plug into our network and start offering delivery to their customers. Now, we’re powering deliveries for some of the fastest-growing companies from retailers to startups.<br><br>It’s a big mission and now we want you to join us to make it even bigger! 🚀<br><br>We’re already backed by some of the Valley\\'s leading venture capitalists, including Village Global, the fund whose investors include Bill Gates, Jeff Bezos, Mark Zuckerberg, Reid Hoffman, and Sara Blakely. We have assembled a world-class team all over the U.S.<br><br>We operate at scale, but we\\'re still a small team relative to the opportunity. We have a staggering amount of work ahead. That means you have an unprecedented opportunity to grow while doing the most important work of your career.<br><br>We want people who are unafraid to be wrong and support decisions with numbers and narrative. Here’s a quick overview of what you will be doing:<br><br><strong>Full-Stack Software Engineer<br><br></strong>As a Software Engineer at Burq, you will be joining a team of talented engineers working together to transform the way businesses offer on-demand &amp; same-day delivery. You will be part of an emerging team that is building a product to power millions of businesses with their delivery needs.<br><br><strong>Who are we looking for: <br><br></strong><ul><li>You want to get involved in the early days of building a highly-scalable platform with a strong market presence. </li><li>You have experience with JavaScript and JS frameworks, such as React.js, Angular.js, and/or Node.js</li><li>You are comfortable working with frameworks including, SQL, NoSQL, REST APIs, or AWS. </li><li>You have experience building micro services and crafting APIs. Experience with Git / Github. </li><li>You are comfortable working on an Agile team. </li><li>Nice to have: Knowledge in Python, Java or GO<br><br></li></ul><strong>What you will do:<br><br></strong><ul><li>Responsible for the design, implementation, and delivery of complex projects</li><li>Serve as a technical resource on best practices for API development with a primary focus on REST-style APIs</li><li>Use data and user feedback to identify, design, and improve Burq’s user experience to ensure clients are able to quickly and delightfully perform their mission critical delivery needs</li><li>Uphold our high engineering standards and improve our practices in engineering, security, and design<br><br></li></ul><strong>You may be fit for this role if you:<br><br></strong><ul><li>Have an entrepreneurial mindset</li><li>Have four or more years of experience in full time software development or similar role</li><li>Have a strong technical background, with two or more years of experience building impactful end to end products</li><li>Enjoy being a generalist working on the frontend, backend, and anything it takes to solve problems and delight users</li><li>Can put yourself in the shoes of your users and be a steward of crafting great experiences <br><br></li></ul><strong>Benefits<br><br></strong>Investing in you 🙏<br><br><ul><li>Competitive salary and opportunity for equity</li><li>Option to work fully remotely or in-person</li><li>Medical, dental and vision insurance</li><li>Reimbursement for educational courses<br><br></li></ul>Generous Time Off 🏝<br><br>Workstation setup stipend 🧑🏻\\u200d💻👩🏾\\u200d💻<br><br>At Burq, we value diversity. We are an equal opportunity employer: we do not discriminate on the basis of race, religion, color, national origin, gender, sexual orientation, age, marital status, veteran status, or disability status.\\n        </div>\\n\\n        \\n\\n    \\n    \\n    \\n\\n    <button class=\"show-more-less-html__button show-more-less-button\\n        show-more-less-html__button--more\\n        ml-0.5\" data-tracking-control-name=\"public_jobs_show-more-html-btn\" aria-label=\"i18n_show_more\" aria-expanded=\"false\">\\n<!---->\\n        \\n            Show more\\n          \\n\\n          <icon class=\"show-more-less-html__button-icon show-more-less-button-icon\" data-delayed-url=\"https://static.licdn.com/aero-v1/sc/h/cyolgscd0imw2ldqppkrb84vo\"></icon>\\n    </button>\\n  \\n\\n        \\n\\n    \\n    \\n    \\n\\n    <button class=\"show-more-less-html__button show-more-less-button\\n        show-more-less-html__button--less\\n        ml-0.5\" data-tracking-control-name=\"public_jobs_show-less-html-btn\" aria-label=\"i18n_show_less\" aria-expanded=\"true\">\\n<!---->\\n        \\n            Show less\\n          \\n\\n          <icon class=\"show-more-less-html__button-icon show-more-less-button-icon\" data-delayed-url=\"https://static.licdn.com/aero-v1/sc/h/4chtt12k98xwnba1nimld2oyg\"></icon>\\n    </button>\\n  \\n<!---->    </section>\\n  \\n      </div>\\n\\n      <ul class=\"description__job-criteria-list\">\\n        <li class=\"description__job-criteria-item\">\\n          <h3 class=\"description__job-criteria-subheader\">\\n            Seniority level\\n          </h3>\\n          <span class=\"description__job-criteria-text description__job-criteria-text--criteria\">\\n            Entry level\\n          </span>\\n        </li>\\n        <li class=\"description__job-criteria-item\">\\n          <h3 class=\"description__job-criteria-subheader\">\\n            Employment type\\n          </h3>\\n          <span class=\"description__job-criteria-text description__job-criteria-text--criteria\">\\n            Full-time\\n          </span>\\n        </li>\\n          <li class=\"description__job-criteria-item\">\\n            <h3 class=\"description__job-criteria-subheader\">\\n              Job function\\n            </h3>\\n            <span class=\"description__job-criteria-text description__job-criteria-text--criteria\">\\n              Engineering\\n            </span>\\n          </li>\\n          <li class=\"description__job-criteria-item\">\\n            <h3 class=\"description__job-criteria-subheader\">\\n              Industries\\n            </h3>\\n            <span class=\"description__job-criteria-text description__job-criteria-text--criteria\">\\n            Technology, Information and Internet\\n            </span>\\n          </li>\\n      </ul>\\n    \\n      </div>\\n    </section>\\n  \\n  \\n\\n        \\n    \\n    \\n\\n    \\n\\n      \\n    <section class=\"core-section-container my-3 find-a-referral\">\\n<!---->\\n<!---->\\n<!---->\\n      <div class=\"core-section-container__content break-words\">\\n        \\n        \\n      \\n    <div class=\"face-pile flex\">\\n      <div class=\"face-pile__images-container self-start flex-shrink-0 mr-1 leading-[1]\">\\n          \\n      <img class=\"inline-block relative\\n          rounded-[50%]\\n          w-4 h-4\\n           face-pile__image border-1 border-solid border-color-transparent -ml-2 first:ml-0\" data-delayed-url=\"https://static.licdn.com/aero-v1/sc/h/bpy6equs0h2jckyn5qlrpgb0b\" data-ghost-classes=\"bg-color-entity-ghost-background\" data-ghost-url=\"https://static.licdn.com/aero-v1/sc/h/9c8pery4andzj6ohjkjp54ma2\" alt>\\n  \\n          \\n      <img class=\"inline-block relative\\n          rounded-[50%]\\n          w-4 h-4\\n           face-pile__image border-1 border-solid border-color-transparent -ml-2 first:ml-0\" data-delayed-url=\"https://static.licdn.com/aero-v1/sc/h/8u45fytkjgiwwp10k15l8fc84\" data-ghost-classes=\"bg-color-entity-ghost-background\" data-ghost-url=\"https://static.licdn.com/aero-v1/sc/h/9c8pery4andzj6ohjkjp54ma2\" alt>\\n  \\n          \\n      <img class=\"inline-block relative\\n          rounded-[50%]\\n          w-4 h-4\\n           face-pile__image border-1 border-solid border-color-transparent -ml-2 first:ml-0\" data-delayed-url=\"https://static.licdn.com/aero-v1/sc/h/tgg16g4l8khb9lwyit64p5rp\" data-ghost-classes=\"bg-color-entity-ghost-background\" data-ghost-url=\"https://static.licdn.com/aero-v1/sc/h/9c8pery4andzj6ohjkjp54ma2\" alt>\\n  \\n      </div>\\n        \\n          \\n            <div class=\"find-a-referral__cta-container\">\\n              <p>Referrals increase your chances of interviewing at Burq by 2x</p>\\n              <a class=\"find-a-referral__cta\" href=\"https://www.linkedin.com/login?session_redirect=https%3A%2F%2Fwww%2Elinkedin%2Ecom%2Fsearch%2Fresults%2Fpeople%2F%3FfacetCurrentCompany%3D70245625&amp;emailAddress=&amp;fromSignIn=&amp;trk=public_jobs_find-a-referral-cta\" data-impression-id=\"public_jobs_find-a-referral-cta\" data-tracking-control-name=\"public_jobs_find-a-referral-cta\" data-tracking-will-navigate>\\n                See who you know\\n              </a>\\n            </div>\\n          \\n        \\n    </div>\\n  \\n  \\n      \\n      </div>\\n    </section>\\n  \\n  \\n\\n<!---->    </div>\\n\\n<!---->\\n<!---->\\n    <code id=\"decoratedJobPostingId\" style=\"display: none\"><!--\"3686203652\"--></code>\\n      <code id=\"referenceId\" style=\"display: none\"><!--\"9aq+BnurSgmTCOvrPesJSw==\"--></code>\\n    <code id=\"joinUrlWithRedirect\" style=\"display: none\"><!--\"https://www.linkedin.com/signup/cold-join?source=jobs_registration&session_redirect=https%3A%2F%2Fwww.linkedin.com%2Fjobs%2Fview%2Ffull-stack-software-engineer-at-burq-3686203652&trk=public_jobs_save-job\"--></code>\\n  \\n  '"
      ]
     },
     "execution_count": 14,
     "metadata": {},
     "output_type": "execute_result"
    }
   ],
   "source": [
    "job_response.text"
   ]
  },
  {
   "cell_type": "code",
   "execution_count": null,
   "id": "45a1f672-8aa0-4294-bced-90ee9fda3c08",
   "metadata": {},
   "outputs": [],
   "source": []
  }
 ],
 "metadata": {
  "kernelspec": {
   "display_name": "Python 3 (ipykernel)",
   "language": "python",
   "name": "python3"
  },
  "language_info": {
   "codemirror_mode": {
    "name": "ipython",
    "version": 3
   },
   "file_extension": ".py",
   "mimetype": "text/x-python",
   "name": "python",
   "nbconvert_exporter": "python",
   "pygments_lexer": "ipython3",
   "version": "3.11.2"
  }
 },
 "nbformat": 4,
 "nbformat_minor": 5
}
