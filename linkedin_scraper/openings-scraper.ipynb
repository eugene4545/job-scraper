{
 "cells": [
  {
   "cell_type": "code",
   "execution_count": 1,
   "id": "44202639-f42a-43bb-9dbd-e45a2e79db97",
   "metadata": {},
   "outputs": [],
   "source": [
    "import requests\n",
    "from bs4 import BeautifulSoup\n",
    "import random\n",
    "import pandas as pd"
   ]
  },
  {
   "cell_type": "code",
   "execution_count": 2,
   "id": "3df055d2-b003-4f9f-8696-b9a4f9147989",
   "metadata": {},
   "outputs": [],
   "source": [
    "title = \"Full-Stack Developer\"\n",
    "location = \"New York\""
   ]
  },
  {
   "cell_type": "code",
   "execution_count": 17,
   "id": "1b621df1-9e2d-4a00-b425-9692471e19a6",
   "metadata": {},
   "outputs": [],
   "source": [
    "import time\n",
    "import requests\n",
    "\n",
    "list_url = \"https://www.linkedin.com/jobs-guest/jobs/api/seeMoreJobPostings/search?keywords=Full-Stack%2BDeveloper&location=New%2BYork&start=100\"\n",
    "\n",
    "# Added a delay before making the request to avoid hitting rate limits\n",
    "time.sleep(1)  # Adjust the delay as needed\n",
    "\n",
    "response = requests.get(list_url)\n",
    "\n",
    "list_data = response.text\n",
    "list_soup = BeautifulSoup(list_data, \"html.parser\")\n",
    "page_jobs = list_soup.find_all(\"li\")\n",
    "\n"
   ]
  },
  {
   "cell_type": "code",
   "execution_count": 21,
   "id": "63b4119b-642a-4d13-81f4-3cf4458c2c49",
   "metadata": {},
   "outputs": [
    {
     "name": "stdout",
     "output_type": "stream",
     "text": [
      "3840493352\n",
      "3871668716\n",
      "3814069534\n",
      "3875648571\n",
      "3869991920\n",
      "3856823717\n",
      "3818365999\n",
      "3590266754\n",
      "3868900223\n",
      "3863286824\n"
     ]
    }
   ],
   "source": [
    "id_list = []\n",
    "for job in page_jobs:\n",
    "    base_card_div = job.find(\"div\", {\"class\": \"base-card\"})\n",
    "    job_id = base_card_div.get(\"data-entity-urn\").split(\":\")[3]\n",
    "    print(job_id)\n",
    "    id_list.append(job_id)"
   ]
  },
  {
   "cell_type": "code",
   "execution_count": 22,
   "id": "7406cf96-0fcd-4799-894d-377a95ad99d2",
   "metadata": {},
   "outputs": [
    {
     "data": {
      "text/plain": [
       "['3840493352',\n",
       " '3871668716',\n",
       " '3814069534',\n",
       " '3875648571',\n",
       " '3869991920',\n",
       " '3856823717',\n",
       " '3818365999',\n",
       " '3590266754',\n",
       " '3868900223',\n",
       " '3863286824']"
      ]
     },
     "execution_count": 22,
     "metadata": {},
     "output_type": "execute_result"
    }
   ],
   "source": [
    "id_list"
   ]
  },
  {
   "cell_type": "code",
   "execution_count": 19,
   "id": "b3a44532-5ab4-49eb-858c-e0be83f77bc0",
   "metadata": {},
   "outputs": [
    {
     "data": {
      "text/plain": [
       "<div class=\"base-card relative w-full hover:no-underline focus:no-underline base-card--link base-search-card base-search-card--link job-search-card\" data-column=\"1\" data-entity-urn=\"urn:li:jobPosting:3863286824\" data-impression-id=\"jobs-search-result-9\" data-reference-id=\"uCm0mghCsonpCAh7FBnQpQ==\" data-row=\"110\" data-tracking-id=\"uTFfHI3EeN172/kSOrvwdQ==\">\n",
       "<a class=\"base-card__full-link absolute top-0 right-0 bottom-0 left-0 p-0 z-[2]\" data-tracking-client-ingraph=\"\" data-tracking-control-name=\"public_jobs_jserp-result_search-card\" data-tracking-will-navigate=\"\" href=\"https://www.linkedin.com/jobs/view/senior-software-developer-at-vts3-3863286824?position=10&amp;pageNum=10&amp;refId=uCm0mghCsonpCAh7FBnQpQ%3D%3D&amp;trackingId=uTFfHI3EeN172%2FkSOrvwdQ%3D%3D&amp;trk=public_jobs_jserp-result_search-card\">\n",
       "<span class=\"sr-only\">\n",
       "              \n",
       "        \n",
       "        Senior Software Developer\n",
       "      \n",
       "      \n",
       "          </span>\n",
       "</a>\n",
       "<div class=\"search-entity-media\">\n",
       "<img alt=\"\" class=\"artdeco-entity-image artdeco-entity-image--square-4\" data-delayed-url=\"https://media.licdn.com/dms/image/C4E0BAQEaji4B7G9ZYA/company-logo_100_100/0/1631325583833?e=2147483647&amp;v=beta&amp;t=fxFlywpiC-Amy0GwgFxZs-lnsMButvZ7797QwYK6tgo\" data-ghost-classes=\"artdeco-entity-image--ghost\" data-ghost-url=\"https://static.licdn.com/aero-v1/sc/h/9a9u41thxt325ucfh5z8ga4m8\"/>\n",
       "</div>\n",
       "<div class=\"base-search-card__info\">\n",
       "<h3 class=\"base-search-card__title\">\n",
       "            \n",
       "        Senior Software Developer\n",
       "      \n",
       "          </h3>\n",
       "<h4 class=\"base-search-card__subtitle\">\n",
       "<a class=\"hidden-nested-link\" data-tracking-client-ingraph=\"\" data-tracking-control-name=\"public_jobs_jserp-result_job-search-card-subtitle\" data-tracking-will-navigate=\"\" href=\"https://www.linkedin.com/company/vts3---veterans-in-technology-consulting-software-and-staffing-solutions?trk=public_jobs_jserp-result_job-search-card-subtitle\">\n",
       "            VTS3\n",
       "          </a>\n",
       "</h4>\n",
       "<!-- -->\n",
       "<div class=\"base-search-card__metadata\">\n",
       "<span class=\"job-search-card__location\">\n",
       "            New York, NY\n",
       "          </span>\n",
       "<!-- -->\n",
       "<time class=\"job-search-card__listdate\" datetime=\"2024-03-19\">\n",
       "            \n",
       "\n",
       "    \n",
       "    \n",
       "    \n",
       "    \n",
       "    \n",
       "    \n",
       "    \n",
       "    \n",
       "    \n",
       "    \n",
       "    \n",
       "    \n",
       "    \n",
       "    \n",
       "    \n",
       "    \n",
       "\n",
       "    \n",
       "    \n",
       "    \n",
       "    \n",
       "    \n",
       "    \n",
       "    \n",
       "    \n",
       "    \n",
       "    \n",
       "    \n",
       "    \n",
       "    \n",
       "    \n",
       "\n",
       "      2 weeks ago\n",
       "  \n",
       "          </time>\n",
       "<!-- -->\n",
       "</div>\n",
       "</div>\n",
       "<!-- -->\n",
       "</div>"
      ]
     },
     "execution_count": 19,
     "metadata": {},
     "output_type": "execute_result"
    }
   ],
   "source": [
    "base_card_div"
   ]
  },
  {
   "cell_type": "code",
   "execution_count": 9,
   "id": "df98aeb9-20b7-4258-9ca3-96c609b65645",
   "metadata": {},
   "outputs": [
    {
     "data": {
      "text/plain": [
       "<Response [200]>"
      ]
     },
     "execution_count": 9,
     "metadata": {},
     "output_type": "execute_result"
    }
   ],
   "source": [
    "response"
   ]
  },
  {
   "cell_type": "code",
   "execution_count": 10,
   "id": "c9fae966-cc22-4769-816d-9d51d17b3f73",
   "metadata": {},
   "outputs": [
    {
     "data": {
      "text/plain": [
       "'<!DOCTYPE html>\\n\\n      <li>\\n        \\n    \\n\\n    \\n    \\n    \\n      <div class=\"base-card relative w-full hover:no-underline focus:no-underline base-card--link base-search-card base-search-card--link job-search-card\" data-entity-urn=\"urn:li:jobPosting:3776648739\" data-impression-id=\"jobs-search-result-0\" data-reference-id=\"4mqVOuMTuCvWeAUVWAVuAg==\" data-tracking-id=\"iHYI/ewWjkny+DJCxtzfTA==\" data-column=\"1\" data-row=\"101\">\\n        \\n\\n        <a class=\"base-card__full-link absolute top-0 right-0 bottom-0 left-0 p-0 z-[2]\" href=\"https://www.linkedin.com/jobs/view/full-stack-engineer-at-kashable-3776648739?position=1&amp;pageNum=10&amp;refId=4mqVOuMTuCvWeAUVWAVuAg%3D%3D&amp;trackingId=iHYI%2FewWjkny%2BDJCxtzfTA%3D%3D&amp;trk=public_jobs_jserp-result_search-card\" data-tracking-control-name=\"public_jobs_jserp-result_search-card\" data-tracking-client-ingraph data-tracking-will-navigate>\\n          \\n          <span class=\"sr-only\">\\n              \\n        \\n        Full Stack Engineer\\n      \\n      \\n          </span>\\n        </a>\\n\\n      \\n        \\n    <div class=\"search-entity-media\">\\n        \\n      <img class=\"artdeco-entity-image artdeco-entity-image--square-4\\n          \" data-delayed-url=\"https://media.licdn.com/dms/image/C4E0BAQFYTCsv9kJWZQ/company-logo_100_100/0/1630600409631/kashable_logo?e=2147483647&amp;v=beta&amp;t=bDo2AI5UnAa8nzPj_5FB-HZ1XXxUYE1uDrGjS8MXfMk\" data-ghost-classes=\"artdeco-entity-image--ghost\" data-ghost-url=\"https://static.licdn.com/aero-v1/sc/h/9a9u41thxt325ucfh5z8ga4m8\" alt>\\n  \\n    </div>\\n  \\n\\n        <div class=\"base-search-card__info\">\\n          <h3 class=\"base-search-card__title\">\\n            \\n        Full Stack Engineer\\n      \\n          </h3>\\n\\n            <h4 class=\"base-search-card__subtitle\">\\n              \\n          <a class=\"hidden-nested-link\" data-tracking-client-ingraph data-tracking-control-name=\"public_jobs_jserp-result_job-search-card-subtitle\" data-tracking-will-navigate href=\"https://www.linkedin.com/company/kashable?trk=public_jobs_jserp-result_job-search-card-subtitle\">\\n            Kashable\\n          </a>\\n      \\n            </h4>\\n\\n<!---->\\n            <div class=\"base-search-card__metadata\">\\n              \\n          <span class=\"job-search-card__location\">\\n            New York City Metropolitan Area\\n          </span>\\n\\n        \\n    \\n    \\n    \\n    \\n\\n      <div class=\"job-posting-benefits text-sm\">\\n        <icon class=\"job-posting-benefits__icon\" data-delayed-url=\"https://static.licdn.com/aero-v1/sc/h/3p1v0uhy7uq0cm5zdvzp4eo18\" data-svg-class-name=\"job-posting-benefits__icon-svg\"></icon>\\n        <span class=\"job-posting-benefits__text\">\\n          Actively Hiring\\n             +8&nbsp;benefits\\n        </span>\\n      </div>\\n  \\n\\n          <time class=\"job-search-card__listdate\" datetime=\"2023-12-07\">\\n            \\n\\n    \\n    \\n    \\n    \\n    \\n    \\n    \\n    \\n    \\n    \\n    \\n    \\n    \\n    \\n    \\n    \\n\\n    \\n    \\n    \\n    \\n    \\n    \\n    \\n    \\n    \\n    \\n    \\n    \\n    \\n    \\n\\n      3 months ago\\n  \\n          </time>\\n\\n<!---->      \\n            </div>\\n        </div>\\n<!---->      \\n    \\n      </div>\\n  \\n  \\n  \\n  \\n      </li>\\n      <li>\\n        \\n    \\n\\n    \\n    \\n    \\n      <div class=\"base-card relative w-full hover:no-underline focus:no-underline base-card--link base-search-card base-search-card--link job-search-card\" data-entity-urn=\"urn:li:jobPosting:3878321207\" data-impression-id=\"jobs-search-result-1\" data-reference-id=\"4mqVOuMTuCvWeAUVWAVuAg==\" data-tracking-id=\"gHTpjGz2j9pQfWrW99Dd3g==\" data-column=\"1\" data-row=\"102\">\\n        \\n\\n        <a class=\"base-card__full-link absolute top-0 right-0 bottom-0 left-0 p-0 z-[2]\" href=\"https://www.linkedin.com/jobs/view/java-react-full-stack-developer-at-fintech-llc-3878321207?position=2&amp;pageNum=10&amp;refId=4mqVOuMTuCvWeAUVWAVuAg%3D%3D&amp;trackingId=gHTpjGz2j9pQfWrW99Dd3g%3D%3D&amp;trk=public_jobs_jserp-result_search-card\" data-tracking-control-name=\"public_jobs_jserp-result_search-card\" data-tracking-client-ingraph data-tracking-will-navigate>\\n          \\n          <span class=\"sr-only\">\\n              \\n        \\n        Java React Full-stack Developer\\n      \\n      \\n          </span>\\n        </a>\\n\\n      \\n        \\n    <div class=\"search-entity-media\">\\n        \\n      <img class=\"artdeco-entity-image artdeco-entity-image--square-4\\n          \" data-delayed-url=\"https://media.licdn.com/dms/image/C510BAQFobT67_rqX5Q/company-logo_100_100/0/1631354807936?e=2147483647&amp;v=beta&amp;t=CXbQEnqxvT96ZgdqitGhoNB0NNM99yTZMM41grqF724\" data-ghost-classes=\"artdeco-entity-image--ghost\" data-ghost-url=\"https://static.licdn.com/aero-v1/sc/h/9a9u41thxt325ucfh5z8ga4m8\" alt>\\n  \\n    </div>\\n  \\n\\n        <div class=\"base-search-card__info\">\\n          <h3 class=\"base-search-card__title\">\\n            \\n        Java React Full-stack Developer\\n      \\n          </h3>\\n\\n            <h4 class=\"base-search-card__subtitle\">\\n              \\n          <a class=\"hidden-nested-link\" data-tracking-client-ingraph data-tracking-control-name=\"public_jobs_jserp-result_job-search-card-subtitle\" data-tracking-will-navigate href=\"https://www.linkedin.com/company/fintech-llc?trk=public_jobs_jserp-result_job-search-card-subtitle\">\\n            FinTech LLC\\n          </a>\\n      \\n            </h4>\\n\\n<!---->\\n            <div class=\"base-search-card__metadata\">\\n              \\n          <span class=\"job-search-card__location\">\\n            New York, NY\\n          </span>\\n\\n        \\n    \\n    \\n    \\n    \\n\\n      <div class=\"job-posting-benefits text-sm\">\\n        <icon class=\"job-posting-benefits__icon\" data-delayed-url=\"https://static.licdn.com/aero-v1/sc/h/8zmuwb93gzlb935fk4ao4z779\" data-svg-class-name=\"job-posting-benefits__icon-svg\"></icon>\\n        <span class=\"job-posting-benefits__text\">\\n          Be an early applicant\\n<!---->        </span>\\n      </div>\\n  \\n\\n          <time class=\"job-search-card__listdate--new\" datetime=\"2024-04-02\">\\n            \\n\\n    \\n    \\n    \\n    \\n    \\n    \\n    \\n    \\n    \\n    \\n    \\n    \\n    \\n    \\n    \\n    \\n\\n    \\n    \\n    \\n    \\n    \\n    \\n    \\n    \\n    \\n    \\n    \\n    \\n    \\n    \\n\\n      9 hours ago\\n  \\n          </time>\\n\\n<!---->      \\n            </div>\\n        </div>\\n<!---->      \\n    \\n      </div>\\n  \\n  \\n  \\n  \\n      </li>\\n      <li>\\n        \\n    \\n\\n    \\n    \\n    \\n      <div class=\"base-card relative w-full hover:no-underline focus:no-underline base-card--link base-search-card base-search-card--link job-search-card\" data-entity-urn=\"urn:li:jobPosting:3875653359\" data-impression-id=\"jobs-search-result-2\" data-reference-id=\"4mqVOuMTuCvWeAUVWAVuAg==\" data-tracking-id=\"jxkHMHgyl9/GjTwWeK+QPQ==\" data-column=\"1\" data-row=\"103\">\\n        \\n\\n        <a class=\"base-card__full-link absolute top-0 right-0 bottom-0 left-0 p-0 z-[2]\" href=\"https://www.linkedin.com/jobs/view/full-stack-engineer-front-end-focused-at-seasonshare-3875653359?position=3&amp;pageNum=10&amp;refId=4mqVOuMTuCvWeAUVWAVuAg%3D%3D&amp;trackingId=jxkHMHgyl9%2FGjTwWeK%2BQPQ%3D%3D&amp;trk=public_jobs_jserp-result_search-card\" data-tracking-control-name=\"public_jobs_jserp-result_search-card\" data-tracking-client-ingraph data-tracking-will-navigate>\\n          \\n          <span class=\"sr-only\">\\n              \\n        \\n        Full Stack Engineer - Front End Focused\\n      \\n      \\n          </span>\\n        </a>\\n\\n      \\n        \\n    <div class=\"search-entity-media\">\\n        \\n      <img class=\"artdeco-entity-image artdeco-entity-image--square-4\\n          \" data-delayed-url=\"https://media.licdn.com/dms/image/D560BAQHkZhTs8WKj4A/company-logo_100_100/0/1682451659850/season_share_logo?e=2147483647&amp;v=beta&amp;t=qDUZQOKzOkAVPVVPLR3O7sRRV2xJS8Lpfuk5Ls-jlvs\" data-ghost-classes=\"artdeco-entity-image--ghost\" data-ghost-url=\"https://static.licdn.com/aero-v1/sc/h/9a9u41thxt325ucfh5z8ga4m8\" alt>\\n  \\n    </div>\\n  \\n\\n        <div class=\"base-search-card__info\">\\n          <h3 class=\"base-search-card__title\">\\n            \\n        Full Stack Engineer - Front End Focused\\n      \\n          </h3>\\n\\n            <h4 class=\"base-search-card__subtitle\">\\n              \\n          <a class=\"hidden-nested-link\" data-tracking-client-ingraph data-tracking-control-name=\"public_jobs_jserp-result_job-search-card-subtitle\" data-tracking-will-navigate href=\"https://www.linkedin.com/company/season-share?trk=public_jobs_jserp-result_job-search-card-subtitle\">\\n            seasonshare\\n          </a>\\n      \\n            </h4>\\n\\n<!---->\\n            <div class=\"base-search-card__metadata\">\\n              \\n          <span class=\"job-search-card__location\">\\n            Elizabeth, NJ\\n          </span>\\n\\n        \\n    \\n    \\n    \\n    \\n\\n      <div class=\"job-posting-benefits text-sm\">\\n        <icon class=\"job-posting-benefits__icon\" data-delayed-url=\"https://static.licdn.com/aero-v1/sc/h/8zmuwb93gzlb935fk4ao4z779\" data-svg-class-name=\"job-posting-benefits__icon-svg\"></icon>\\n        <span class=\"job-posting-benefits__text\">\\n          Be an early applicant\\n<!---->        </span>\\n      </div>\\n  \\n\\n          <time class=\"job-search-card__listdate\" datetime=\"2024-03-31\">\\n            \\n\\n    \\n    \\n    \\n    \\n    \\n    \\n    \\n    \\n    \\n    \\n    \\n    \\n    \\n    \\n    \\n    \\n\\n    \\n    \\n    \\n    \\n    \\n    \\n    \\n    \\n    \\n    \\n    \\n    \\n    \\n    \\n\\n      2 days ago\\n  \\n          </time>\\n\\n<!---->      \\n            </div>\\n        </div>\\n<!---->      \\n    \\n      </div>\\n  \\n  \\n  \\n  \\n      </li>\\n      <li>\\n        \\n    \\n\\n    \\n    \\n    \\n      <div class=\"base-card relative w-full hover:no-underline focus:no-underline base-card--link base-search-card base-search-card--link job-search-card\" data-entity-urn=\"urn:li:jobPosting:3881524501\" data-impression-id=\"jobs-search-result-3\" data-reference-id=\"4mqVOuMTuCvWeAUVWAVuAg==\" data-tracking-id=\"bx3MKqE0dOTwqez8k8X1tQ==\" data-column=\"1\" data-row=\"104\">\\n        \\n\\n        <a class=\"base-card__full-link absolute top-0 right-0 bottom-0 left-0 p-0 z-[2]\" href=\"https://www.linkedin.com/jobs/view/full-stack-developer-at-arrow-search-partners-3881524501?position=4&amp;pageNum=10&amp;refId=4mqVOuMTuCvWeAUVWAVuAg%3D%3D&amp;trackingId=bx3MKqE0dOTwqez8k8X1tQ%3D%3D&amp;trk=public_jobs_jserp-result_search-card\" data-tracking-control-name=\"public_jobs_jserp-result_search-card\" data-tracking-client-ingraph data-tracking-will-navigate>\\n          \\n          <span class=\"sr-only\">\\n              \\n        \\n        Full Stack Developer\\n      \\n      \\n          </span>\\n        </a>\\n\\n      \\n        \\n    <div class=\"search-entity-media\">\\n        \\n      <img class=\"artdeco-entity-image artdeco-entity-image--square-4\\n          \" data-delayed-url=\"https://media.licdn.com/dms/image/C4E0BAQG9kOYhb1mI6A/company-logo_100_100/0/1631328586422?e=2147483647&amp;v=beta&amp;t=xQ5WfbKJfJmJ-nSmyuNv79MpPQdABLDgw_wX_Bb7_5w\" data-ghost-classes=\"artdeco-entity-image--ghost\" data-ghost-url=\"https://static.licdn.com/aero-v1/sc/h/9a9u41thxt325ucfh5z8ga4m8\" alt>\\n  \\n    </div>\\n  \\n\\n        <div class=\"base-search-card__info\">\\n          <h3 class=\"base-search-card__title\">\\n            \\n        Full Stack Developer\\n      \\n          </h3>\\n\\n            <h4 class=\"base-search-card__subtitle\">\\n              \\n          <a class=\"hidden-nested-link\" data-tracking-client-ingraph data-tracking-control-name=\"public_jobs_jserp-result_job-search-card-subtitle\" data-tracking-will-navigate href=\"https://www.linkedin.com/company/arrow-search-partners?trk=public_jobs_jserp-result_job-search-card-subtitle\">\\n            Arrow Search Partners\\n          </a>\\n      \\n            </h4>\\n\\n<!---->\\n            <div class=\"base-search-card__metadata\">\\n              \\n          <span class=\"job-search-card__location\">\\n            New York, NY\\n          </span>\\n\\n        \\n    \\n    \\n    \\n    \\n\\n      <div class=\"job-posting-benefits text-sm\">\\n        <icon class=\"job-posting-benefits__icon\" data-delayed-url=\"https://static.licdn.com/aero-v1/sc/h/3p1v0uhy7uq0cm5zdvzp4eo18\" data-svg-class-name=\"job-posting-benefits__icon-svg\"></icon>\\n        <span class=\"job-posting-benefits__text\">\\n          Actively Hiring\\n<!---->        </span>\\n      </div>\\n  \\n\\n          <time class=\"job-search-card__listdate--new\" datetime=\"2024-04-02\">\\n            \\n\\n    \\n    \\n    \\n    \\n    \\n    \\n    \\n    \\n    \\n    \\n    \\n    \\n    \\n    \\n    \\n    \\n\\n    \\n    \\n    \\n    \\n    \\n    \\n    \\n    \\n    \\n    \\n    \\n    \\n    \\n    \\n\\n      13 hours ago\\n  \\n          </time>\\n\\n<!---->      \\n            </div>\\n        </div>\\n<!---->      \\n    \\n      </div>\\n  \\n  \\n  \\n  \\n      </li>\\n      <li>\\n        \\n    \\n\\n    \\n    \\n    \\n      <div class=\"base-card relative w-full hover:no-underline focus:no-underline base-card--link base-search-card base-search-card--link job-search-card\" data-entity-urn=\"urn:li:jobPosting:3852940687\" data-impression-id=\"jobs-search-result-4\" data-reference-id=\"4mqVOuMTuCvWeAUVWAVuAg==\" data-tracking-id=\"Tsd56kuJ0LD7Y2YRa4+pfg==\" data-column=\"1\" data-row=\"105\">\\n        \\n\\n        <a class=\"base-card__full-link absolute top-0 right-0 bottom-0 left-0 p-0 z-[2]\" href=\"https://www.linkedin.com/jobs/view/full-stack-engineer-at-trepp-inc-3852940687?position=5&amp;pageNum=10&amp;refId=4mqVOuMTuCvWeAUVWAVuAg%3D%3D&amp;trackingId=Tsd56kuJ0LD7Y2YRa4%2Bpfg%3D%3D&amp;trk=public_jobs_jserp-result_search-card\" data-tracking-control-name=\"public_jobs_jserp-result_search-card\" data-tracking-client-ingraph data-tracking-will-navigate>\\n          \\n          <span class=\"sr-only\">\\n              \\n        \\n        Full Stack Engineer\\n      \\n      \\n          </span>\\n        </a>\\n\\n      \\n        \\n    <div class=\"search-entity-media\">\\n        \\n      <img class=\"artdeco-entity-image artdeco-entity-image--square-4\\n          \" data-delayed-url=\"https://media.licdn.com/dms/image/C4D0BAQGn2-f98SoZeg/company-logo_100_100/0/1630477420947/trepp_llc_logo?e=2147483647&amp;v=beta&amp;t=H8EEl-cyVW6NMDXF0m-W8olmEllAz5XuKfF8Y9T9EBM\" data-ghost-classes=\"artdeco-entity-image--ghost\" data-ghost-url=\"https://static.licdn.com/aero-v1/sc/h/9a9u41thxt325ucfh5z8ga4m8\" alt>\\n  \\n    </div>\\n  \\n\\n        <div class=\"base-search-card__info\">\\n          <h3 class=\"base-search-card__title\">\\n            \\n        Full Stack Engineer\\n      \\n          </h3>\\n\\n            <h4 class=\"base-search-card__subtitle\">\\n              \\n          <a class=\"hidden-nested-link\" data-tracking-client-ingraph data-tracking-control-name=\"public_jobs_jserp-result_job-search-card-subtitle\" data-tracking-will-navigate href=\"https://www.linkedin.com/company/trepp?trk=public_jobs_jserp-result_job-search-card-subtitle\">\\n            Trepp, Inc.\\n          </a>\\n      \\n            </h4>\\n\\n<!---->\\n            <div class=\"base-search-card__metadata\">\\n              \\n          <span class=\"job-search-card__location\">\\n            New York, NY\\n          </span>\\n\\n        \\n    \\n    \\n    \\n    \\n\\n      <div class=\"job-posting-benefits text-sm\">\\n        <icon class=\"job-posting-benefits__icon\" data-delayed-url=\"https://static.licdn.com/aero-v1/sc/h/3p1v0uhy7uq0cm5zdvzp4eo18\" data-svg-class-name=\"job-posting-benefits__icon-svg\"></icon>\\n        <span class=\"job-posting-benefits__text\">\\n          Actively Hiring\\n             +10&nbsp;benefits\\n        </span>\\n      </div>\\n  \\n\\n          <time class=\"job-search-card__listdate\" datetime=\"2024-03-11\">\\n            \\n\\n    \\n    \\n    \\n    \\n    \\n    \\n    \\n    \\n    \\n    \\n    \\n    \\n    \\n    \\n    \\n    \\n\\n    \\n    \\n    \\n    \\n    \\n    \\n    \\n    \\n    \\n    \\n    \\n    \\n    \\n    \\n\\n      3 weeks ago\\n  \\n          </time>\\n\\n<!---->      \\n            </div>\\n        </div>\\n<!---->      \\n    \\n      </div>\\n  \\n  \\n  \\n  \\n      </li>\\n      <li>\\n        \\n    \\n\\n    \\n    \\n    \\n      <div class=\"base-card relative w-full hover:no-underline focus:no-underline base-card--link base-search-card base-search-card--link job-search-card\" data-entity-urn=\"urn:li:jobPosting:3847807016\" data-impression-id=\"jobs-search-result-5\" data-reference-id=\"4mqVOuMTuCvWeAUVWAVuAg==\" data-tracking-id=\"XR0Elkz6qOkgZ/6ypaoraQ==\" data-column=\"1\" data-row=\"106\">\\n        \\n\\n        <a class=\"base-card__full-link absolute top-0 right-0 bottom-0 left-0 p-0 z-[2]\" href=\"https://www.linkedin.com/jobs/view/java-developer-at-morgan-stanley-3847807016?position=6&amp;pageNum=10&amp;refId=4mqVOuMTuCvWeAUVWAVuAg%3D%3D&amp;trackingId=XR0Elkz6qOkgZ%2F6ypaoraQ%3D%3D&amp;trk=public_jobs_jserp-result_search-card\" data-tracking-control-name=\"public_jobs_jserp-result_search-card\" data-tracking-client-ingraph data-tracking-will-navigate>\\n          \\n          <span class=\"sr-only\">\\n              \\n        \\n        Java Developer\\n      \\n      \\n          </span>\\n        </a>\\n\\n      \\n        \\n    <div class=\"search-entity-media\">\\n        \\n      <img class=\"artdeco-entity-image artdeco-entity-image--square-4\\n          \" data-delayed-url=\"https://media.licdn.com/dms/image/C560BAQFtDpMvYgbIwA/company-logo_100_100/0/1677778128461/morgan_stanley_logo?e=2147483647&amp;v=beta&amp;t=Rfik_B94A3pyUnLHzfaQn5VvuGsw-x1k9Lw6-7Spg9c\" data-ghost-classes=\"artdeco-entity-image--ghost\" data-ghost-url=\"https://static.licdn.com/aero-v1/sc/h/9a9u41thxt325ucfh5z8ga4m8\" alt>\\n  \\n    </div>\\n  \\n\\n        <div class=\"base-search-card__info\">\\n          <h3 class=\"base-search-card__title\">\\n            \\n        Java Developer\\n      \\n          </h3>\\n\\n            <h4 class=\"base-search-card__subtitle\">\\n              \\n          <a class=\"hidden-nested-link\" data-tracking-client-ingraph data-tracking-control-name=\"public_jobs_jserp-result_job-search-card-subtitle\" data-tracking-will-navigate href=\"https://www.linkedin.com/company/morgan-stanley?trk=public_jobs_jserp-result_job-search-card-subtitle\">\\n            Morgan Stanley\\n          </a>\\n      \\n            </h4>\\n\\n<!---->\\n            <div class=\"base-search-card__metadata\">\\n              \\n          <span class=\"job-search-card__location\">\\n            New York, NY\\n          </span>\\n\\n        \\n    \\n    \\n    \\n    \\n\\n      <div class=\"job-posting-benefits text-sm\">\\n        <icon class=\"job-posting-benefits__icon\" data-delayed-url=\"https://static.licdn.com/aero-v1/sc/h/3p1v0uhy7uq0cm5zdvzp4eo18\" data-svg-class-name=\"job-posting-benefits__icon-svg\"></icon>\\n        <span class=\"job-posting-benefits__text\">\\n          Actively Hiring\\n<!---->        </span>\\n      </div>\\n  \\n\\n          <time class=\"job-search-card__listdate\" datetime=\"2024-04-01\">\\n            \\n\\n    \\n    \\n    \\n    \\n    \\n    \\n    \\n    \\n    \\n    \\n    \\n    \\n    \\n    \\n    \\n    \\n\\n    \\n    \\n    \\n    \\n    \\n    \\n    \\n    \\n    \\n    \\n    \\n    \\n    \\n    \\n\\n      1 day ago\\n  \\n          </time>\\n\\n<!---->      \\n            </div>\\n        </div>\\n<!---->      \\n    \\n      </div>\\n  \\n  \\n  \\n  \\n      </li>\\n      <li>\\n        \\n    \\n\\n    \\n    \\n    \\n      <div class=\"base-card relative w-full hover:no-underline focus:no-underline base-card--link base-search-card base-search-card--link job-search-card\" data-entity-urn=\"urn:li:jobPosting:3840493352\" data-impression-id=\"jobs-search-result-6\" data-reference-id=\"4mqVOuMTuCvWeAUVWAVuAg==\" data-tracking-id=\"jMClBChd/krlgSWp6dA7Xw==\" data-column=\"1\" data-row=\"107\">\\n        \\n\\n        <a class=\"base-card__full-link absolute top-0 right-0 bottom-0 left-0 p-0 z-[2]\" href=\"https://www.linkedin.com/jobs/view/full-stack-engineer-scale-at-alloy-3840493352?position=7&amp;pageNum=10&amp;refId=4mqVOuMTuCvWeAUVWAVuAg%3D%3D&amp;trackingId=jMClBChd%2FkrlgSWp6dA7Xw%3D%3D&amp;trk=public_jobs_jserp-result_search-card\" data-tracking-control-name=\"public_jobs_jserp-result_search-card\" data-tracking-client-ingraph data-tracking-will-navigate>\\n          \\n          <span class=\"sr-only\">\\n              \\n        \\n        Full Stack Engineer, Scale\\n      \\n      \\n          </span>\\n        </a>\\n\\n      \\n        \\n    <div class=\"search-entity-media\">\\n        \\n      <img class=\"artdeco-entity-image artdeco-entity-image--square-4\\n          \" data-delayed-url=\"https://media.licdn.com/dms/image/C4E0BAQEw5A-k39KSDg/company-logo_100_100/0/1630656674888/alloy_apis_logo?e=2147483647&amp;v=beta&amp;t=D31MyknkdJZayAo89NPjArIT4PfZJFknZVo0zsf6Mek\" data-ghost-classes=\"artdeco-entity-image--ghost\" data-ghost-url=\"https://static.licdn.com/aero-v1/sc/h/9a9u41thxt325ucfh5z8ga4m8\" alt>\\n  \\n    </div>\\n  \\n\\n        <div class=\"base-search-card__info\">\\n          <h3 class=\"base-search-card__title\">\\n            \\n        Full Stack Engineer, Scale\\n      \\n          </h3>\\n\\n            <h4 class=\"base-search-card__subtitle\">\\n              \\n          <a class=\"hidden-nested-link\" data-tracking-client-ingraph data-tracking-control-name=\"public_jobs_jserp-result_job-search-card-subtitle\" data-tracking-will-navigate href=\"https://www.linkedin.com/company/alloy-apis?trk=public_jobs_jserp-result_job-search-card-subtitle\">\\n            Alloy\\n          </a>\\n      \\n            </h4>\\n\\n<!---->\\n            <div class=\"base-search-card__metadata\">\\n              \\n          <span class=\"job-search-card__location\">\\n            New York, NY\\n          </span>\\n\\n        \\n    \\n    \\n    \\n    \\n\\n<!---->  \\n\\n          <time class=\"job-search-card__listdate\" datetime=\"2024-02-29\">\\n            \\n\\n    \\n    \\n    \\n    \\n    \\n    \\n    \\n    \\n    \\n    \\n    \\n    \\n    \\n    \\n    \\n    \\n\\n    \\n    \\n    \\n    \\n    \\n    \\n    \\n    \\n    \\n    \\n    \\n    \\n    \\n    \\n\\n      1 month ago\\n  \\n          </time>\\n\\n<!---->      \\n            </div>\\n        </div>\\n<!---->      \\n    \\n      </div>\\n  \\n  \\n  \\n  \\n      </li>\\n      <li>\\n        \\n    \\n\\n    \\n    \\n    \\n      <div class=\"base-card relative w-full hover:no-underline focus:no-underline base-card--link base-search-card base-search-card--link job-search-card\" data-entity-urn=\"urn:li:jobPosting:3871668716\" data-impression-id=\"jobs-search-result-7\" data-reference-id=\"4mqVOuMTuCvWeAUVWAVuAg==\" data-tracking-id=\"xCb+jShZ8Bcu1JDvx4KtLQ==\" data-column=\"1\" data-row=\"108\">\\n        \\n\\n        <a class=\"base-card__full-link absolute top-0 right-0 bottom-0 left-0 p-0 z-[2]\" href=\"https://www.linkedin.com/jobs/view/full-stack-software-engineer-at-cmp-jobs-3871668716?position=8&amp;pageNum=10&amp;refId=4mqVOuMTuCvWeAUVWAVuAg%3D%3D&amp;trackingId=xCb%2BjShZ8Bcu1JDvx4KtLQ%3D%3D&amp;trk=public_jobs_jserp-result_search-card\" data-tracking-control-name=\"public_jobs_jserp-result_search-card\" data-tracking-client-ingraph data-tracking-will-navigate>\\n          \\n          <span class=\"sr-only\">\\n              \\n        \\n        Full Stack Software Engineer\\n      \\n      \\n          </span>\\n        </a>\\n\\n      \\n        \\n    <div class=\"search-entity-media\">\\n        \\n      <img class=\"artdeco-entity-image artdeco-entity-image--square-4\\n          artdeco-entity-image--ghost\" data-delayed-url=\"https://static.licdn.com/aero-v1/sc/h/9a9u41thxt325ucfh5z8ga4m8\" data-ghost-classes=\"artdeco-entity-image--ghost\" data-ghost-url=\"https://static.licdn.com/aero-v1/sc/h/9a9u41thxt325ucfh5z8ga4m8\" alt>\\n  \\n    </div>\\n  \\n\\n        <div class=\"base-search-card__info\">\\n          <h3 class=\"base-search-card__title\">\\n            \\n        Full Stack Software Engineer\\n      \\n          </h3>\\n\\n            <h4 class=\"base-search-card__subtitle\">\\n              \\n          <a class=\"hidden-nested-link\" data-tracking-client-ingraph data-tracking-control-name=\"public_jobs_jserp-result_job-search-card-subtitle\" data-tracking-will-navigate href=\"https://www.linkedin.com/company/cmp.jobs?trk=public_jobs_jserp-result_job-search-card-subtitle\">\\n            CMP.jobs\\n          </a>\\n      \\n            </h4>\\n\\n<!---->\\n            <div class=\"base-search-card__metadata\">\\n              \\n          <span class=\"job-search-card__location\">\\n            Stamford, CT\\n          </span>\\n\\n        \\n    \\n    \\n    \\n    \\n\\n      <div class=\"job-posting-benefits text-sm\">\\n        <icon class=\"job-posting-benefits__icon\" data-delayed-url=\"https://static.licdn.com/aero-v1/sc/h/8zmuwb93gzlb935fk4ao4z779\" data-svg-class-name=\"job-posting-benefits__icon-svg\"></icon>\\n        <span class=\"job-posting-benefits__text\">\\n          Be an early applicant\\n<!---->        </span>\\n      </div>\\n  \\n\\n          <time class=\"job-search-card__listdate\" datetime=\"2024-03-28\">\\n            \\n\\n    \\n    \\n    \\n    \\n    \\n    \\n    \\n    \\n    \\n    \\n    \\n    \\n    \\n    \\n    \\n    \\n\\n    \\n    \\n    \\n    \\n    \\n    \\n    \\n    \\n    \\n    \\n    \\n    \\n    \\n    \\n\\n      5 days ago\\n  \\n          </time>\\n\\n<!---->      \\n            </div>\\n        </div>\\n<!---->      \\n    \\n      </div>\\n  \\n  \\n  \\n  \\n      </li>\\n      <li>\\n        \\n    \\n\\n    \\n    \\n    \\n      <div class=\"base-card relative w-full hover:no-underline focus:no-underline base-card--link base-search-card base-search-card--link job-search-card\" data-entity-urn=\"urn:li:jobPosting:3814069534\" data-impression-id=\"jobs-search-result-8\" data-reference-id=\"4mqVOuMTuCvWeAUVWAVuAg==\" data-tracking-id=\"jMsZgPaEsFUw6u3Esy7p0g==\" data-column=\"1\" data-row=\"109\">\\n        \\n\\n        <a class=\"base-card__full-link absolute top-0 right-0 bottom-0 left-0 p-0 z-[2]\" href=\"https://www.linkedin.com/jobs/view/software-engineer-at-kasheesh-3814069534?position=9&amp;pageNum=10&amp;refId=4mqVOuMTuCvWeAUVWAVuAg%3D%3D&amp;trackingId=jMsZgPaEsFUw6u3Esy7p0g%3D%3D&amp;trk=public_jobs_jserp-result_search-card\" data-tracking-control-name=\"public_jobs_jserp-result_search-card\" data-tracking-client-ingraph data-tracking-will-navigate>\\n          \\n          <span class=\"sr-only\">\\n              \\n        \\n        Software Engineer\\n      \\n      \\n          </span>\\n        </a>\\n\\n      \\n        \\n    <div class=\"search-entity-media\">\\n        \\n      <img class=\"artdeco-entity-image artdeco-entity-image--square-4\\n          \" data-delayed-url=\"https://media.licdn.com/dms/image/C4E0BAQGwEv9bMa0sBQ/company-logo_100_100/0/1655476882684/kasheesh_logo?e=2147483647&amp;v=beta&amp;t=9zRkovcETYXC5EE9Pz5XbQgvaUMyYZRSgXWjwv1RJMA\" data-ghost-classes=\"artdeco-entity-image--ghost\" data-ghost-url=\"https://static.licdn.com/aero-v1/sc/h/9a9u41thxt325ucfh5z8ga4m8\" alt>\\n  \\n    </div>\\n  \\n\\n        <div class=\"base-search-card__info\">\\n          <h3 class=\"base-search-card__title\">\\n            \\n        Software Engineer\\n      \\n          </h3>\\n\\n            <h4 class=\"base-search-card__subtitle\">\\n              \\n          <a class=\"hidden-nested-link\" data-tracking-client-ingraph data-tracking-control-name=\"public_jobs_jserp-result_job-search-card-subtitle\" data-tracking-will-navigate href=\"https://www.linkedin.com/company/kasheesh?trk=public_jobs_jserp-result_job-search-card-subtitle\">\\n            Kasheesh\\n          </a>\\n      \\n            </h4>\\n\\n<!---->\\n            <div class=\"base-search-card__metadata\">\\n              \\n          <span class=\"job-search-card__location\">\\n            New York, NY\\n          </span>\\n\\n        \\n    \\n    \\n    \\n    \\n\\n<!---->  \\n\\n          <time class=\"job-search-card__listdate\" datetime=\"2024-01-24\">\\n            \\n\\n    \\n    \\n    \\n    \\n    \\n    \\n    \\n    \\n    \\n    \\n    \\n    \\n    \\n    \\n    \\n    \\n\\n    \\n    \\n    \\n    \\n    \\n    \\n    \\n    \\n    \\n    \\n    \\n    \\n    \\n    \\n\\n      2 months ago\\n  \\n          </time>\\n\\n<!---->      \\n            </div>\\n        </div>\\n<!---->      \\n    \\n      </div>\\n  \\n  \\n  \\n  \\n      </li>\\n      <li>\\n        \\n    \\n\\n    \\n    \\n    \\n      <div class=\"base-card relative w-full hover:no-underline focus:no-underline base-card--link base-search-card base-search-card--link job-search-card\" data-entity-urn=\"urn:li:jobPosting:3875648571\" data-impression-id=\"jobs-search-result-9\" data-reference-id=\"4mqVOuMTuCvWeAUVWAVuAg==\" data-tracking-id=\"Fo1+8eblcLywoWvZtPO7Bg==\" data-column=\"1\" data-row=\"110\">\\n        \\n\\n        <a class=\"base-card__full-link absolute top-0 right-0 bottom-0 left-0 p-0 z-[2]\" href=\"https://www.linkedin.com/jobs/view/full-stack-engineer-front-end-focused-at-seasonshare-3875648571?position=10&amp;pageNum=10&amp;refId=4mqVOuMTuCvWeAUVWAVuAg%3D%3D&amp;trackingId=Fo1%2B8eblcLywoWvZtPO7Bg%3D%3D&amp;trk=public_jobs_jserp-result_search-card\" data-tracking-control-name=\"public_jobs_jserp-result_search-card\" data-tracking-client-ingraph data-tracking-will-navigate>\\n          \\n          <span class=\"sr-only\">\\n              \\n        \\n        Full Stack Engineer - Front End Focused\\n      \\n      \\n          </span>\\n        </a>\\n\\n      \\n        \\n    <div class=\"search-entity-media\">\\n        \\n      <img class=\"artdeco-entity-image artdeco-entity-image--square-4\\n          \" data-delayed-url=\"https://media.licdn.com/dms/image/D560BAQHkZhTs8WKj4A/company-logo_100_100/0/1682451659850/season_share_logo?e=2147483647&amp;v=beta&amp;t=qDUZQOKzOkAVPVVPLR3O7sRRV2xJS8Lpfuk5Ls-jlvs\" data-ghost-classes=\"artdeco-entity-image--ghost\" data-ghost-url=\"https://static.licdn.com/aero-v1/sc/h/9a9u41thxt325ucfh5z8ga4m8\" alt>\\n  \\n    </div>\\n  \\n\\n        <div class=\"base-search-card__info\">\\n          <h3 class=\"base-search-card__title\">\\n            \\n        Full Stack Engineer - Front End Focused\\n      \\n          </h3>\\n\\n            <h4 class=\"base-search-card__subtitle\">\\n              \\n          <a class=\"hidden-nested-link\" data-tracking-client-ingraph data-tracking-control-name=\"public_jobs_jserp-result_job-search-card-subtitle\" data-tracking-will-navigate href=\"https://www.linkedin.com/company/season-share?trk=public_jobs_jserp-result_job-search-card-subtitle\">\\n            seasonshare\\n          </a>\\n      \\n            </h4>\\n\\n<!---->\\n            <div class=\"base-search-card__metadata\">\\n              \\n          <span class=\"job-search-card__location\">\\n            Edison, NJ\\n          </span>\\n\\n        \\n    \\n    \\n    \\n    \\n\\n      <div class=\"job-posting-benefits text-sm\">\\n        <icon class=\"job-posting-benefits__icon\" data-delayed-url=\"https://static.licdn.com/aero-v1/sc/h/8zmuwb93gzlb935fk4ao4z779\" data-svg-class-name=\"job-posting-benefits__icon-svg\"></icon>\\n        <span class=\"job-posting-benefits__text\">\\n          Be an early applicant\\n<!---->        </span>\\n      </div>\\n  \\n\\n          <time class=\"job-search-card__listdate\" datetime=\"2024-03-31\">\\n            \\n\\n    \\n    \\n    \\n    \\n    \\n    \\n    \\n    \\n    \\n    \\n    \\n    \\n    \\n    \\n    \\n    \\n\\n    \\n    \\n    \\n    \\n    \\n    \\n    \\n    \\n    \\n    \\n    \\n    \\n    \\n    \\n\\n      2 days ago\\n  \\n          </time>\\n\\n<!---->      \\n            </div>\\n        </div>\\n<!---->      \\n    \\n      </div>\\n  \\n  \\n  \\n  \\n      </li>\\n  '"
      ]
     },
     "execution_count": 10,
     "metadata": {},
     "output_type": "execute_result"
    }
   ],
   "source": [
    "response.text"
   ]
  },
  {
   "cell_type": "code",
   "execution_count": null,
   "id": "3b59fc70-13d6-4dfc-a5a1-089e72e23ed9",
   "metadata": {},
   "outputs": [
    {
     "name": "stdout",
     "output_type": "stream",
     "text": [
      "Rate limit exceeded. Waiting for a while before retrying...\n",
      "Rate limit exceeded. Waiting for a while before retrying...\n",
      "Rate limit exceeded. Waiting for a while before retrying...\n",
      "Rate limit exceeded. Waiting for a while before retrying...\n",
      "Rate limit exceeded. Waiting for a while before retrying...\n",
      "Rate limit exceeded. Waiting for a while before retrying...\n",
      "Rate limit exceeded. Waiting for a while before retrying...\n",
      "Rate limit exceeded. Waiting for a while before retrying...\n"
     ]
    }
   ],
   "source": [
    "import time\n",
    "import requests\n",
    "from bs4 import BeautifulSoup\n",
    "\n",
    "job_list = []\n",
    "\n",
    "# Define the delay between requests (in seconds)\n",
    "delay = 1\n",
    "\n",
    "for job_id in id_list:\n",
    "    # Construct the job URL\n",
    "    job_url = f\"https://www.linkedin.com/jobs-guest/jobs/api/jobPosting/{job_id}\"\n",
    "    \n",
    "    # Make the request and handle rate limiting\n",
    "    while True:\n",
    "        job_response = requests.get(job_url)\n",
    "        if job_response.status_code == 429:\n",
    "            print(\"Rate limit exceeded. Waiting for a while before retrying...\")\n",
    "            time.sleep(60)  # Wait for 60 seconds before retrying\n",
    "        else:\n",
    "            break  # Exit the loop if the request was successful or failed due to reasons other than rate limiting\n",
    "    \n",
    "    # Parse the HTML content\n",
    "    job_soup = BeautifulSoup(job_response.text, \"html.parser\")\n",
    "    job_post = {}\n",
    "    \n",
    "    # Find the company name element\n",
    "    company_name_elem = job_soup.find(\"a\", {\"class\": \"topcard__org-name-link topcard__flavor--black-link\"})\n",
    "    \n",
    "    # Extract the company name if the element exists\n",
    "    if company_name_elem:\n",
    "        job_post[\"company_name\"] = company_name_elem.text.strip()\n",
    "    else:\n",
    "        job_post[\"company_name\"] = \"Unknown\"\n",
    "    \n",
    "    # Add the job post to the list\n",
    "    job_list.append(job_post)\n",
    "    \n",
    "    # Add a delay before making the next request\n",
    "    time.sleep(delay)\n",
    "\n",
    "# Now job_list contains the job posts with company names\n"
   ]
  },
  {
   "cell_type": "code",
   "execution_count": 15,
   "id": "7b5d7945-a606-4e86-bab4-4038da4724d0",
   "metadata": {},
   "outputs": [
    {
     "data": {
      "text/plain": [
       "<Response [200]>"
      ]
     },
     "execution_count": 15,
     "metadata": {},
     "output_type": "execute_result"
    }
   ],
   "source": [
    "job_response"
   ]
  },
  {
   "cell_type": "code",
   "execution_count": 16,
   "id": "c26ad207-1f22-4dbb-9f63-5c2fd803e658",
   "metadata": {},
   "outputs": [
    {
     "data": {
      "text/plain": [
       "'\\n\\n    \\n<!---->    \\n    \\n\\n    \\n    <section class=\"top-card-layout container-lined overflow-hidden babybear:rounded-[0px]\">\\n        \\n      \\n\\n      <div class=\"top-card-layout__card relative p-2 papabear:p-details-container-padding\">\\n            \\n        \\n      <a href=\"https://www.linkedin.com/company/afficiency?trk=public_jobs_topcard_logo\" target=\"_self\" data-tracking-control-name=\"public_jobs_topcard_logo\" data-tracking-will-navigate>\\n        \\n          \\n      <img class=\"artdeco-entity-image artdeco-entity-image--square-5\\n          \" data-delayed-url=\"https://media.licdn.com/dms/image/C4E0BAQFW1nC8TNK8wg/company-logo_100_100/0/1638556567992/afficiency_logo?e=2147483647&amp;v=beta&amp;t=fcZK_cl7uLb2XZlrlgzZD8Hp7OqoRWYfhfMrAUc190Y\" data-ghost-classes=\"artdeco-entity-image--ghost\" data-ghost-url=\"https://static.licdn.com/aero-v1/sc/h/9rxpcj33wtsq3w7nxb3u3ku6e\" alt=\"Afficiency\">\\n  \\n        \\n      </a>\\n  \\n      \\n\\n          <div class=\"top-card-layout__entity-info-container flex flex-wrap papabear:flex-nowrap\">\\n            <div class=\"top-card-layout__entity-info flex-grow flex-shrink-0 basis-0 babybear:flex-none babybear:w-full babybear:flex-none babybear:w-full\">\\n                  \\n          <a href=\"https://www.linkedin.com/jobs/view/full-stack-developer-at-afficiency-3857352433?trk=public_jobs_topcard-title\" data-tracking-control-name=\"public_jobs_topcard-title\" class=\"topcard__link\" data-tracking-will-navigate>\\n            <h2 class=\"top-card-layout__title font-sans text-lg papabear:text-xl font-bold leading-open text-color-text mb-0 topcard__title\">Full Stack Developer</h2>\\n          </a>\\n      \\n<!---->\\n<!---->\\n                <h4 class=\"top-card-layout__second-subline font-sans text-sm leading-open text-color-text-low-emphasis mt-0.5\">\\n                  \\n        <div class=\"topcard__flavor-row\">\\n          <span class=\"topcard__flavor\">\\n              <a class=\"topcard__org-name-link topcard__flavor--black-link\" data-tracking-control-name=\"public_jobs_topcard-org-name\" data-tracking-will-navigate href=\"https://www.linkedin.com/company/afficiency?trk=public_jobs_topcard-org-name\" rel=\"noopener\" target=\"_blank\">\\n                Afficiency\\n              </a>\\n          </span>\\n            <span class=\"topcard__flavor topcard__flavor--bullet\">\\n              New York, NY\\n            </span>\\n        </div>\\n        <div class=\"topcard__flavor-row\">\\n          \\n        <span class=\"posted-time-ago__text topcard__flavor--metadata\">\\n          \\n\\n    \\n    \\n    \\n    \\n    \\n    \\n    \\n    \\n    \\n    \\n    \\n    \\n    \\n    \\n    \\n    \\n\\n    \\n    \\n    \\n    \\n    \\n    \\n    \\n    \\n    \\n    \\n    \\n    \\n    \\n    \\n\\n      5 days ago\\n  \\n        </span>\\n  \\n          \\n    \\n    \\n    \\n\\n        <span class=\"num-applicants__caption topcard__flavor--metadata topcard__flavor--bullet\">\\n          162 applicants\\n        </span>\\n  \\n        </div>\\n          \\n    \\n    \\n\\n    \\n      \\n    <div class=\"face-pile flex see-who-was-hired\">\\n      <div class=\"face-pile__images-container self-start flex-shrink-0 mr-1 leading-[1]\">\\n          \\n      <img class=\"inline-block relative\\n          rounded-[50%]\\n          w-4 h-4\\n           face-pile__image border-1 border-solid border-color-transparent -ml-2 first:ml-0\" data-delayed-url=\"https://static.licdn.com/aero-v1/sc/h/57vqgfov997uimtaajik76xfr\" data-ghost-classes=\"bg-color-entity-ghost-background\" data-ghost-url=\"https://static.licdn.com/aero-v1/sc/h/9c8pery4andzj6ohjkjp54ma2\" alt>\\n  \\n          \\n      <img class=\"inline-block relative\\n          rounded-[50%]\\n          w-4 h-4\\n           face-pile__image border-1 border-solid border-color-transparent -ml-2 first:ml-0\" data-delayed-url=\"https://static.licdn.com/aero-v1/sc/h/1r5y4gyavxb048v7fvnl06mjs\" data-ghost-classes=\"bg-color-entity-ghost-background\" data-ghost-url=\"https://static.licdn.com/aero-v1/sc/h/9c8pery4andzj6ohjkjp54ma2\" alt>\\n  \\n          \\n      <img class=\"inline-block relative\\n          rounded-[50%]\\n          w-4 h-4\\n           face-pile__image border-1 border-solid border-color-transparent -ml-2 first:ml-0\" data-delayed-url=\"https://static.licdn.com/aero-v1/sc/h/bzm35e3651eojcpnxxuyvpjpo\" data-ghost-classes=\"bg-color-entity-ghost-background\" data-ghost-url=\"https://static.licdn.com/aero-v1/sc/h/9c8pery4andzj6ohjkjp54ma2\" alt>\\n  \\n      </div>\\n          <a class=\"face-pile__cta self-center link-no-visited-state\" href=\"https://www.linkedin.com/login?session_redirect=https%3A%2F%2Fwww%2Elinkedin%2Ecom%2Fsearch%2Fresults%2Fpeople%2F%3FfacetCurrentCompany%3D18687600&amp;emailAddress=&amp;fromSignIn=&amp;trk=public_jobs_see-who-was-hired_people-search-link_face-pile-cta\" data-tracking-control-name=\"public_jobs_see-who-was-hired_people-search-link_face-pile-cta\" data-tracking-will-navigate>\\n            See who Afficiency has hired for this role\\n          </a>\\n    </div>\\n  \\n  \\n  \\n<!---->      \\n                </h4>\\n\\n              <div class=\"top-card-layout__cta-container flex flex-wrap mt-0.5 papabear:mt-0 ml-[-12px]\">\\n                    \\n          \\n    \\n    \\n\\n      <button class=\"apply-button apply-button--default top-card-layout__cta mt-2 ml-1.5 h-auto babybear:flex-auto top-card-layout__cta--primary btn-md btn-primary\" data-reference-id=\"7YxdonqCT1qkBgS+N4BFEQ==\" data-tracking-id=\"vlRMSYdpSWmGCmdOOj5o6g==\" data-tracking-control-name=\"public_jobs_apply-link-onsite\">\\n                Apply\\n      </button>\\n  \\n      \\n\\n                    \\n          <button class=\"top-card-layout__cta mt-2 ml-1.5 h-auto babybear:flex-auto top-card-layout__cta--secondary btn-md btn-secondary save-job-modal-outlet\" data-modal=\"save-job-modal-outlet\" data-impression-id=\"public_jobs_topcard-save-job\" data-tracking-control-name=\"public_jobs_topcard-save-job\">\\n            Save\\n          </button>\\n          \\n    \\n\\n    \\n\\n    \\n    <div class>\\n<!---->\\n      <div id=\"save-job-modal\" class=\"modal save-job-modal \" data-outlet=\"save-job-modal-outlet\">\\n<!---->        <div class=\"modal__overlay flex items-center bg-color-background-scrim justify-center fixed bottom-0 left-0 right-0 top-0 opacity-0 invisible pointer-events-none z-[1000] transition-[opacity] ease-[cubic-bezier(0.25,0.1,0.25,1.0)] duration-[0.17s]\\n            py-4\\n            \" aria-hidden=\"true\">\\n          <section aria-modal=\"true\" role=\"dialog\" aria-labelledby=\"save-job-modal-modal-header\" tabindex=\"-1\" class=\"max-h-full modal__wrapper overflow-auto p-0 bg-color-surface max-w-[1128px] min-h-[160px] relative scale-[0.25] shadow-sm shadow-color-border-faint transition-[transform] ease-[cubic-bezier(0.25,0.1,0.25,1.0)] duration-[0.33s] focus:outline-0\\n              \\n              w-[1128px] mamabear:w-[744px] babybear:w-[360px]\\n              \\n              rounded-md\">\\n              <header class=\"modal__header flex items-center justify-between py-1.5 px-3\\n                  \">\\n                  <h2 id=\"save-job-modal-modal-header\" class=\"modal__title font-normal leading-open text-color-text text-lg\">Save job</h2>\\n                  <button class=\"modal__dismiss modal__dismiss--with-icon btn-tertiary h-[40px] w-[40px] p-0 rounded-full indent-0\\n                      \" aria-label=\"Dismiss\" data-tracking-control-name=\"public_jobs_save-job-modal_modal_dismiss\" type=\"button\">\\n                      <icon class=\"modal__dismiss-icon relative top-[2px]\" data-delayed-url=\"https://static.licdn.com/aero-v1/sc/h/gs508lg3t2o81tq7pmcgn6m2\"></icon>\\n                  </button>\\n<!---->              </header>\\n            <div class=\"modal__main w-full \">\\n              \\n        \\n    <div class=\"loader loader--absolute\">\\n      <div class=\"loader__container mb-2 overflow-hidden\">\\n        <icon class=\"loader__icon inline-block loader__icon--muted text-color-icon-active\" data-delayed-url=\"https://static.licdn.com/aero-v1/sc/h/ddi43qwelxeqjxdd45pe3fvs1\" data-svg-class-name=\"loader__icon-svg--small fill-currentColor h-[30px] min-h-[30px] w-[30px] min-w-[30px]\"></icon>\\n      </div>\\n    </div>\\n  \\n        \\n    \\n    \\n    \\n    \\n    \\n    \\n\\n    <code id=\"i18n_save_job_form_email_check_error\" style=\"display: none\"><!--\"We’re sorry, something went wrong on our end. Please try again.\"--></code>\\n\\n    \\n    \\n    \\n\\n    <div class=\"email-input-page save-job-form-page\">\\n      \\n      <form class=\"email-input-page__content-new-user\">\\n        <div class=\"email-input-page__content\">\\n          <h3 class=\"email-input-page__header\">\\n            \\n        <figure class=\"save-job-form__inbug\">\\n          <icon data-delayed-url=\"https://static.licdn.com/aero-v1/sc/h/ercwkzy8m5jnkaliyweviswct\" data-svg-class-name=\"save-job-form__inbug-icon\"></icon>\\n        </figure>\\n        Save this job with your existing LinkedIn profile, or create a new one.\\n      \\n          </h3>\\n          <span class=\"email-input-page__body\">\\n            \\n        Your job seeking activity is only visible to you.\\n      \\n          </span>\\n          \\n    <div class=\"mt-1.5\" data-js-module-id=\"guest-input\">\\n      <div class=\"flex flex-col\">\\n        <label class=\"input-label mb-1\" for=\"public_jobs_save-job_email-input\">\\n          Email\\n        </label>\\n        <div class=\"text-input flex\">\\n          <input class=\"text-color-text font-sans text-md outline-0 bg-color-transparent grow\" autocomplete=\"off\" id=\"public_jobs_save-job_email-input\" name=\"email-input-page__input\" placeholder=\"Email address\" required data-tracking-control-name=\"public_jobs_save-job_enter-email\" type=\"text\">\\n          \\n        </div>\\n      </div>\\n\\n      <p class=\"input-helper mt-1.5\" for=\"public_jobs_save-job_email-input\" role=\"alert\" data-js-module-id=\"guest-input__message\"></p>\\n    </div>\\n  \\n\\n          <code id=\"email-input-page-error-message\" style=\"display: none\"><!--\"Please enter a valid email address.\"--></code>\\n        </div>\\n        \\n        <footer class=\"save-job-form__footer\">\\n          <button class=\"save-job-form__button\" data-tracking-control-name=\"public_jobs_save-job-form-continue\" type=\"submit\">\\n            Continue\\n          </button>\\n        </footer>\\n      \\n      </form>\\n      \\n    \\n\\n    <div class=\"welcome-back-sign-in-form welcome-back-sign-in-form--hidden\" data-impression-id=\"save-job-sign-in-form\">\\n      <h3 class=\"welcome-back-sign-in-form__header\">\\n        Welcome back\\n      </h3>\\n\\n        <p class=\"welcome-back-sign-in-form__subline\">\\n          \\n          \\n        Sign in to save <b>Full Stack Developer</b> at <b>Afficiency</b>.\\n      \\n        \\n        </p>\\n\\n      \\n    \\n    \\n    \\n    \\n    \\n    \\n    \\n    \\n    \\n    \\n\\n    <code id=\"i18n_sign_in_form_show_text\" style=\"display: none\"><!--\"Show\"--></code>\\n    <code id=\"i18n_sign_in_form_show_label\" style=\"display: none\"><!--\"Show your LinkedIn password\"--></code>\\n    <code id=\"i18n_sign_in_form_hide_text\" style=\"display: none\"><!--\"Hide\"--></code>\\n    <code id=\"i18n_sign_in_form_hide_label\" style=\"display: none\"><!--\"Hide your LinkedIn password\"--></code>\\n\\n    \\n    <code id=\"i18n_username_error_empty\" style=\"display: none\"><!--\"Please enter an email address or phone number\"--></code>\\n    \\n    <code id=\"i18n_username_error_too_long\" style=\"display: none\"><!--\"Email or phone number must be between 3 to 128 characters\"--></code>\\n    <code id=\"i18n_username_error_too_short\" style=\"display: none\"><!--\"Email or phone number must be between 3 to 128 characters\"--></code>\\n\\n    \\n    <code id=\"i18n_password_error_empty\" style=\"display: none\"><!--\"Please enter a password\"--></code>\\n    \\n    <code id=\"i18n_password_error_too_short\" style=\"display: none\"><!--\"The password you provided must have at least 6 characters\"--></code>\\n    \\n    <code id=\"i18n_password_error_too_long\" style=\"display: none\"><!--\"The password you provided must have at most 400 characters\"--></code>\\n\\n    <form data-id=\"sign-in-form\" action=\"https://www.linkedin.com/uas/login-submit\" method=\"post\" novalidate class=\"save-job-form-sign-in-form\">\\n      <input name=\"loginCsrfParam\" value=\"2518d403-6749-46bd-8399-6c9043422454\" type=\"hidden\">\\n\\n      <div class=\"flex flex-col\">\\n        \\n    <div class=\"mt-1.5\" data-js-module-id=\"guest-input\">\\n      <div class=\"flex flex-col\">\\n        <label class=\"input-label mb-1\" for=\"session_key\">\\n          Email or phone\\n        </label>\\n        <div class=\"text-input flex\">\\n          <input class=\"text-color-text font-sans text-md outline-0 bg-color-transparent grow\" autocomplete=\"username\" id=\"session_key\" name=\"session_key\" required data-tracking-control-name=\"public_jobs_save-job_sign-in-session-key\" data-tracking-client-ingraph type=\"text\">\\n          \\n        </div>\\n      </div>\\n\\n      <p class=\"input-helper mt-1.5\" for=\"session_key\" role=\"alert\" data-js-module-id=\"guest-input__message\"></p>\\n    </div>\\n  \\n\\n        \\n    <div class=\"mt-1.5\" data-js-module-id=\"guest-input\">\\n      <div class=\"flex flex-col\">\\n        <label class=\"input-label mb-1\" for=\"session_password\">\\n          Password\\n        </label>\\n        <div class=\"text-input flex\">\\n          <input class=\"text-color-text font-sans text-md outline-0 bg-color-transparent grow\" autocomplete=\"current-password\" id=\"session_password\" name=\"session_password\" required data-tracking-control-name=\"public_jobs_save-job_sign-in-password\" data-tracking-client-ingraph type=\"password\">\\n          \\n            <button aria-live=\"assertive\" aria-relevant=\"text\" data-id=\"sign-in-form__password-visibility-toggle\" class=\"font-sans text-md font-bold text-color-action z-10 ml-[12px] hover:cursor-pointer\" aria-label=\"Show your LinkedIn password\" data-tracking-control-name=\"public_jobs_save-job_sign-in-password-visibility-toggle-btn\" type=\"button\">Show</button>\\n          \\n        </div>\\n      </div>\\n\\n      <p class=\"input-helper mt-1.5\" for=\"session_password\" role=\"alert\" data-js-module-id=\"guest-input__message\"></p>\\n    </div>\\n  \\n\\n        <input name=\"session_redirect\" value=\"https://www.linkedin.com/jobs/view/full-stack-developer-at-afficiency-3857352433\" type=\"hidden\">\\n\\n<!---->      </div>\\n\\n      <div data-id=\"sign-in-form__footer\" class=\"flex justify-between\\n          items-center mt-[16px]\">\\n        <a data-id=\"sign-in-form__forgot-password\" class=\"font-sans text-md font-bold link leading-regular\\n            \" href=\"https://www.linkedin.com/uas/request-password-reset?trk=public_jobs_save-job_forgot_password\" data-tracking-control-name=\"public_jobs_save-job_forgot_password\" data-tracking-will-navigate>Forgot password?</a>\\n\\n<!---->\\n        <input name=\"trk\" value=\"public_jobs_save-job_sign-in-submit\" type=\"hidden\">\\n        <button class=\"btn-md btn-primary flex-shrink-0 cursor-pointer\\n            ml-[8px]\" data-id=\"sign-in-form__submit-btn\" data-tracking-control-name=\"public_jobs_save-job_sign-in-submit-btn\" data-tracking-client-ingraph data-tracking-litms type=\"submit\">\\n          Sign in\\n        </button>\\n      </div>\\n<!---->    </form>\\n<!----><!---->  \\n    </div>\\n  \\n    </div>\\n  \\n  \\n      \\n            </div>\\n\\n<!---->          </section>\\n        </div>\\n      </div>\\n    </div>\\n  \\n  \\n      \\n              </div>\\n            </div>\\n\\n<!---->          </div>\\n\\n          \\n\\n    \\n    \\n    \\n    \\n    \\n    \\n    \\n    \\n    \\n    \\n    \\n    \\n    \\n\\n      <div class=\"ellipsis-menu absolute right-0 top-0 top-card-layout__ellipsis-menu mr-1 papabear:mt-0.5 papabear:mr-2\">\\n        \\n\\n    \\n\\n    <div class=\"collapsible-dropdown flex items-center relative hyphens-auto\">\\n          \\n            <button class=\"ellipsis-menu__trigger\\n                collapsible-dropdown__button btn-md btn-tertiary cursor-pointer\\n                !py-[6px] !px-1 flex items-center rounded-[50%]\\n                \\n                \" aria-expanded=\"false\" aria-label=\"Open menu\" data-tracking-control-name=\"public_jobs_ellipsis-menu-trigger\">\\n              <icon class=\"ellipsis-menu__trigger-icon m-0 p-0 centered-icon\" data-delayed-url=\"https://static.licdn.com/aero-v1/sc/h/671xosfpvk4c0kqtyl87hashi\"></icon>\\n            </button>\\n          \\n\\n        <ul class=\"collapsible-dropdown__list hidden container-raised absolute w-auto overflow-y-auto flex-col items-stretch z-1 bottom-auto top-[100%]\" role=\"menu\" tabindex=\"-1\">\\n          \\n              \\n\\n                <li class=\"ellipsis-menu__item border-t-1 border-solid border-color-border-low-emphasis first-of-type:border-none flex\">\\n                  \\n\\n    \\n    \\n\\n    \\n\\n    \\n\\n    <a href=\"/uas/login?fromSignIn=true&amp;session_redirect=https%3A%2F%2Fwww.linkedin.com%2Fjobs%2Fview%2Ffull-stack-developer-at-afficiency-3857352433&amp;trk=public_jobs_ellipsis-menu-semaphore-sign-in-redirect&amp;guestReportContentType=JOB&amp;_f=guest-reporting\" data-tracking-control-name=\"public_jobs_ellipsis-menu-semaphore-sign-in-redirect\" data-tracking-will-navigate data-item-type=\"semaphore\" data-semaphore-content-type=\"JOB\" data-semaphore-content-urn=\"urn:li:jobPosting:3857352433\" data-semaphore-tracking-prefix=\"public_jobs_ellipsis-menu-semaphore\" data-is-logged-in=\"false\" data-modal=\"semaphore__toggle\" class=\"semaphore__toggle visited:text-color-text-secondary ellipsis-menu__semaphore ellipsis-menu__item-button flex items-center w-full p-1 cursor-pointer font-sans text-sm font-bold link-styled focus:link-styled link:no-underline active:bg-color-background-container-tint focus:bg-color-background-container-tint hover:bg-color-background-container-tint outline-offset-[-2px]\">\\n<!---->        \\n                      <icon class=\"ellipsis-menu__item-icon text-color-text h-[24px] w-[24px] mr-1\" data-delayed-url=\"https://static.licdn.com/aero-v1/sc/h/iq0x9q37wj214o129ai1yjut\">\\n                      </icon>\\n                      Report this job\\n                    \\n    </a>\\n\\n<!---->  \\n                </li>\\n<!---->          \\n        </ul>\\n\\n<!---->    </div>\\n  \\n\\n      </div>\\n  \\n\\n<!---->      </div>\\n    </section>\\n  \\n  \\n\\n    <div class=\"decorated-job-posting__details\">\\n<!---->\\n      \\n    \\n    \\n    \\n    \\n    \\n\\n    \\n    <section class=\"core-section-container my-3 description\">\\n<!---->\\n<!---->\\n<!---->\\n      <div class=\"core-section-container__content break-words\">\\n        \\n      \\n    \\n    \\n\\n<!---->  \\n\\n      <div class=\"description__text description__text--rich\">\\n        \\n    \\n    \\n    \\n\\n    <section class=\"show-more-less-html\" data-max-lines=\"5\">\\n        <div class=\"show-more-less-html__markup show-more-less-html__markup--clamp-after-5\\n            relative overflow-hidden\">\\n          <strong>Company Description<br><br></strong>Afficiency is a rapidly growing Insurtech startup whose mission is to provide life insurance to everyone on the platforms they already trust. Located in NYC, we design life insurance products that can be purchased entirely digitally and can be easily embedded into distribution platforms or with agents who sell insurance. The company is experiencing rapid growth and is well-funded. We are looking for new team members to join us on our journey to shake up the life insurance industry. We need individuals who bring passion, curiosity, and a desire for excellence.<br><br><strong>Job Description<br><br></strong>We are seeking a Full Stack Developer to join our quickly growing Capabilities Team. Candidate should have deep understanding of system architecture &amp; design. The key responsibility will to build core front and back-end functional capabilities, as well as enhance and optimize currently existing web-applications and platforms.<br><br><strong>Qualifications<br><br></strong><strong>Please note that this job is only hiring candidates that live in the Metro NYC area and are able to commute to the office. <br><br></strong><ul><li>Accountable for the end-to-end planning and implementation of complex projects and/or Agile teams. Lead and negotiate, scope, schedule, budget, risks, deployments and communications for projects and initiatives.</li><li>Lead project level retrospectives, post-mortems, and RCAs (Root Cause Analysis) with clear next steps, action items, and follow-up.</li><li>Coach multiple teams through the software development process using Agile, Scrum, and Lean practices and work openly and boldly across all functions and geographies to ensure projects are developed and deployed with quality and timely delivery into our production systems.</li><li>Ask thoughtful questions to help our customers, product owners, and product managers to maximize value and meet company objectives. Understand product strategy and benefits of the work you\\'re doing with your teams!</li><li>Guide groups through processes that help them come to solutions and make decisions.</li><li>As a change agent, discover opportunities for process improvements, pilot and then drive on a larger scale.</li><li>Proactively identifies and anticipates barriers. Assertively and creatively removes obstacles that slow down or prevent programs from delivering against project objectives.</li><li>Champion the adoption of key engineering practices like Reflection, Learning, Code Review, and Continuous Integration.</li><li>Take initiative to create and grow our learning community and be an Agile and Leadership Champion within the organization.<br><br></li></ul><strong>Must Have<br><br></strong><ul><li>6 or more years of work experience with a bachelor\\'s degree or 4 or more years of relevant experience with an Advanced Degree (e.g. Masters, MBA, JD, MD)</li><li>Demonstrated curiosity and ability to understand architectural and technical aspects of Data Platform and DevOps projects.</li><li>Excellent communication skills.</li><li>Excellent facilitation skills with ability to influence change at higher levels.</li><li>Experience in managing big data open-source services projects is a plus.</li><li>Large scale migrations experience is a plus.</li><li>One or more Agile certifications: CSM, PMI ACP, ICAgile.</li><li>PMP, PRINCE2 or similar detailed knowledge of formal project management processes.</li><li>Strong knowledge of deployment processes in Kubernetes.</li><li>Familiarity with JIRA PLUS ++++, if you are familiar with Python, JavaScript, SQL<br><br></li></ul><strong>Additional Information<br><br></strong><strong>What We Offer\\u202f\\u202f <br><br></strong><ul><li>Fully remote work with a flexible schedule</li><li>Stipend to purchase work-from-home equipment </li><li>Competitive salary with equity options </li><li>Robust health, dental, and vision benefits for employee and dependents </li><li>401k matching contributions </li><li>Generous PTO policy\\u202f </li><li>Work at a supportive and fast-growing startup with a fantastic team\\u202f\\u202f </li><li>Environment to learn from other team members, grow a business from the ground up\\u202f\\u202f\\u202f\\u202f </li><li>Support in developing your skills and accelerating your career quickly\\u202f\\u202f </li><li>Opportunity to make an impact in the lives of tens of millions of consumers and get families the protection they need\\u202f\\u202f\\u202f <br><br></li></ul><strong>Afficiency is an Equal Opportunity Employer. All your information will be kept confidential according to EEO guidelines.</strong>\\n        </div>\\n\\n        \\n\\n    \\n    \\n    \\n\\n    <button class=\"show-more-less-html__button show-more-less-button\\n        show-more-less-html__button--more\\n        ml-0.5\" data-tracking-control-name=\"public_jobs_show-more-html-btn\" aria-label=\"i18n_show_more\" aria-expanded=\"false\">\\n<!---->\\n        \\n            Show more\\n          \\n\\n          <icon class=\"show-more-less-html__button-icon show-more-less-button-icon\" data-delayed-url=\"https://static.licdn.com/aero-v1/sc/h/cyolgscd0imw2ldqppkrb84vo\"></icon>\\n    </button>\\n  \\n\\n        \\n\\n    \\n    \\n    \\n\\n    <button class=\"show-more-less-html__button show-more-less-button\\n        show-more-less-html__button--less\\n        ml-0.5\" data-tracking-control-name=\"public_jobs_show-less-html-btn\" aria-label=\"i18n_show_less\" aria-expanded=\"true\">\\n<!---->\\n        \\n            Show less\\n          \\n\\n          <icon class=\"show-more-less-html__button-icon show-more-less-button-icon\" data-delayed-url=\"https://static.licdn.com/aero-v1/sc/h/4chtt12k98xwnba1nimld2oyg\"></icon>\\n    </button>\\n  \\n<!---->    </section>\\n  \\n      </div>\\n\\n      <ul class=\"description__job-criteria-list\">\\n        <li class=\"description__job-criteria-item\">\\n          <h3 class=\"description__job-criteria-subheader\">\\n            Seniority level\\n          </h3>\\n          <span class=\"description__job-criteria-text description__job-criteria-text--criteria\">\\n            Not Applicable\\n          </span>\\n        </li>\\n        <li class=\"description__job-criteria-item\">\\n          <h3 class=\"description__job-criteria-subheader\">\\n            Employment type\\n          </h3>\\n          <span class=\"description__job-criteria-text description__job-criteria-text--criteria\">\\n            Full-time\\n          </span>\\n        </li>\\n          <li class=\"description__job-criteria-item\">\\n            <h3 class=\"description__job-criteria-subheader\">\\n              Job function\\n            </h3>\\n            <span class=\"description__job-criteria-text description__job-criteria-text--criteria\">\\n              Engineering\\n            </span>\\n          </li>\\n          <li class=\"description__job-criteria-item\">\\n            <h3 class=\"description__job-criteria-subheader\">\\n              Industries\\n            </h3>\\n            <span class=\"description__job-criteria-text description__job-criteria-text--criteria\">\\n            Insurance\\n            </span>\\n          </li>\\n      </ul>\\n    \\n      </div>\\n    </section>\\n  \\n  \\n\\n        \\n    \\n    \\n\\n    \\n\\n      \\n    <section class=\"core-section-container my-3 find-a-referral\">\\n<!---->\\n<!---->\\n<!---->\\n      <div class=\"core-section-container__content break-words\">\\n        \\n        \\n      \\n    <div class=\"face-pile flex\">\\n      <div class=\"face-pile__images-container self-start flex-shrink-0 mr-1 leading-[1]\">\\n          \\n      <img class=\"inline-block relative\\n          rounded-[50%]\\n          w-4 h-4\\n           face-pile__image border-1 border-solid border-color-transparent -ml-2 first:ml-0\" data-delayed-url=\"https://static.licdn.com/aero-v1/sc/h/5kmvlcys0cgehw7e3ojvz5yuk\" data-ghost-classes=\"bg-color-entity-ghost-background\" data-ghost-url=\"https://static.licdn.com/aero-v1/sc/h/9c8pery4andzj6ohjkjp54ma2\" alt>\\n  \\n          \\n      <img class=\"inline-block relative\\n          rounded-[50%]\\n          w-4 h-4\\n           face-pile__image border-1 border-solid border-color-transparent -ml-2 first:ml-0\" data-delayed-url=\"https://static.licdn.com/aero-v1/sc/h/dbyylwnsp3dbiscb831jwsr32\" data-ghost-classes=\"bg-color-entity-ghost-background\" data-ghost-url=\"https://static.licdn.com/aero-v1/sc/h/9c8pery4andzj6ohjkjp54ma2\" alt>\\n  \\n          \\n      <img class=\"inline-block relative\\n          rounded-[50%]\\n          w-4 h-4\\n           face-pile__image border-1 border-solid border-color-transparent -ml-2 first:ml-0\" data-delayed-url=\"https://static.licdn.com/aero-v1/sc/h/aemitl4w713xg3xvy9bcrecox\" data-ghost-classes=\"bg-color-entity-ghost-background\" data-ghost-url=\"https://static.licdn.com/aero-v1/sc/h/9c8pery4andzj6ohjkjp54ma2\" alt>\\n  \\n      </div>\\n        \\n          \\n            <div class=\"find-a-referral__cta-container\">\\n              <p>Referrals increase your chances of interviewing at Afficiency by 2x</p>\\n              <a class=\"find-a-referral__cta\" href=\"https://www.linkedin.com/login?session_redirect=https%3A%2F%2Fwww%2Elinkedin%2Ecom%2Fsearch%2Fresults%2Fpeople%2F%3FfacetCurrentCompany%3D18687600&amp;emailAddress=&amp;fromSignIn=&amp;trk=public_jobs_find-a-referral-cta\" data-impression-id=\"public_jobs_find-a-referral-cta\" data-tracking-control-name=\"public_jobs_find-a-referral-cta\" data-tracking-will-navigate>\\n                See who you know\\n              </a>\\n            </div>\\n          \\n        \\n    </div>\\n  \\n  \\n      \\n      </div>\\n    </section>\\n  \\n  \\n\\n<!---->    </div>\\n\\n<!---->\\n<!---->\\n    <code id=\"decoratedJobPostingId\" style=\"display: none\"><!--\"3857352433\"--></code>\\n      <code id=\"referenceId\" style=\"display: none\"><!--\"7YxdonqCT1qkBgS+N4BFEQ==\"--></code>\\n    <code id=\"joinUrlWithRedirect\" style=\"display: none\"><!--\"https://www.linkedin.com/signup/cold-join?source=jobs_registration&session_redirect=https%3A%2F%2Fwww.linkedin.com%2Fjobs%2Fview%2Ffull-stack-developer-at-afficiency-3857352433&trk=public_jobs_save-job\"--></code>\\n  \\n  '"
      ]
     },
     "execution_count": 16,
     "metadata": {},
     "output_type": "execute_result"
    }
   ],
   "source": [
    "job_response.text"
   ]
  },
  {
   "cell_type": "code",
   "execution_count": null,
   "id": "e91f40fa-0651-495a-8ec2-dbc9e71560fa",
   "metadata": {},
   "outputs": [],
   "source": []
  }
 ],
 "metadata": {
  "kernelspec": {
   "display_name": "Python 3 (ipykernel)",
   "language": "python",
   "name": "python3"
  },
  "language_info": {
   "codemirror_mode": {
    "name": "ipython",
    "version": 3
   },
   "file_extension": ".py",
   "mimetype": "text/x-python",
   "name": "python",
   "nbconvert_exporter": "python",
   "pygments_lexer": "ipython3",
   "version": "3.11.2"
  }
 },
 "nbformat": 4,
 "nbformat_minor": 5
}
